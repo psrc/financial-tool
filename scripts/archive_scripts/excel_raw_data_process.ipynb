{
 "cells": [
  {
   "cell_type": "markdown",
   "source": [
    "# Initial Data Processing\n",
    "- Read in raw data from Excel spreadsheets (from Excel_data folder)\n",
    "- Reformat raw data to input for financial tool (saved to Input folder)\n"
   ],
   "metadata": {
    "collapsed": false
   }
  },
  {
   "cell_type": "markdown",
   "source": [
    "## Replace datasets"
   ],
   "metadata": {
    "collapsed": false
   }
  },
  {
   "cell_type": "code",
   "execution_count": 1,
   "outputs": [],
   "source": [
    "# Replace datasets\n",
    "replace_parameter = False\n",
    "replace_subarea_population = False\n",
    "replace_boardings_local_transit = False\n",
    "replace_fare_per_boarding_local_transit = False\n",
    "replace_revenue_local_transit = True\n",
    "replace_tax_base = False"
   ],
   "metadata": {
    "collapsed": false
   }
  },
  {
   "cell_type": "markdown",
   "source": [
    "## Paths\n",
    "data from excel spreadsheets"
   ],
   "metadata": {
    "collapsed": false
   }
  },
  {
   "cell_type": "code",
   "execution_count": 2,
   "outputs": [],
   "source": [
    "#  Local Transit Tab\n",
    "## Transit revenues (Nominal $millions)\n",
    "Excel_data_revenue_local_transit = \"script_data/Excel_data/local_transit_actual_revenue.csv\"\n",
    "## Total Fixed-Route boardings\n",
    "Excel_data_boardings_local_transit = \"script_data/Excel_data/local_transit_actual_boardings.csv\"         # FIXME: consider RTP forecast data\n",
    "## Fixed-Route fare per boarding\n",
    "Excel_data_fare_per_boarding_local_transit = \"script_data/Excel_data/local_transit_fare_per_boarding.csv\"\n",
    "\n",
    "# Tax Base Tab\n",
    "Excel_data_tax_base = \"script_data/Excel_data/tax_base_actual.csv\"\n",
    "Excel_data_parameter = \"script_data/Excel_data/parameters_tax.csv\"\n",
    "\n",
    "# Subarea Allocation Bases Tab\n",
    "Excel_data_subarea_population = \"script_data/Excel_data/subarea_allocation_bases_population_actual.csv\""
   ],
   "metadata": {
    "collapsed": false
   }
  },
  {
   "cell_type": "code",
   "execution_count": 4,
   "outputs": [],
   "source": [
    "import pandas as pd\n",
    "import numpy as np\n",
    "import math\n",
    "import toml\n",
    "import os\n",
    "import forecasting_tool\n",
    "\n",
    "\n",
    "data_config = toml.load(os.path.join(os.getcwd(), \"../configuration.toml\"))"
   ],
   "metadata": {
    "collapsed": false
   }
  },
  {
   "cell_type": "code",
   "execution_count": 20,
   "metadata": {
    "collapsed": true
   },
   "outputs": [
    {
     "data": {
      "text/plain": "    Year  PV factor     CPI  indecies\n0   1975      5.312  0.5066       NaN\n1   1976      5.047  0.5332  1.052507\n2   1977      4.658  0.5778  1.083646\n3   1978      4.241  0.6345  1.098131\n4   1979      3.864  0.6965  1.097715\n..   ...        ...     ...       ...\n71  2046      0.605  4.4493  1.025941\n72  2047      0.590  4.5578  1.024386\n73  2048      0.578  4.6596  1.022335\n74  2049      0.565  4.7590  1.021332\n75  2050      0.554  4.8582  1.020845\n\n[76 rows x 4 columns]",
      "text/html": "<div>\n<style scoped>\n    .dataframe tbody tr th:only-of-type {\n        vertical-align: middle;\n    }\n\n    .dataframe tbody tr th {\n        vertical-align: top;\n    }\n\n    .dataframe thead th {\n        text-align: right;\n    }\n</style>\n<table border=\"1\" class=\"dataframe\">\n  <thead>\n    <tr style=\"text-align: right;\">\n      <th></th>\n      <th>Year</th>\n      <th>PV factor</th>\n      <th>CPI</th>\n      <th>indecies</th>\n    </tr>\n  </thead>\n  <tbody>\n    <tr>\n      <th>0</th>\n      <td>1975</td>\n      <td>5.312</td>\n      <td>0.5066</td>\n      <td>NaN</td>\n    </tr>\n    <tr>\n      <th>1</th>\n      <td>1976</td>\n      <td>5.047</td>\n      <td>0.5332</td>\n      <td>1.052507</td>\n    </tr>\n    <tr>\n      <th>2</th>\n      <td>1977</td>\n      <td>4.658</td>\n      <td>0.5778</td>\n      <td>1.083646</td>\n    </tr>\n    <tr>\n      <th>3</th>\n      <td>1978</td>\n      <td>4.241</td>\n      <td>0.6345</td>\n      <td>1.098131</td>\n    </tr>\n    <tr>\n      <th>4</th>\n      <td>1979</td>\n      <td>3.864</td>\n      <td>0.6965</td>\n      <td>1.097715</td>\n    </tr>\n    <tr>\n      <th>...</th>\n      <td>...</td>\n      <td>...</td>\n      <td>...</td>\n      <td>...</td>\n    </tr>\n    <tr>\n      <th>71</th>\n      <td>2046</td>\n      <td>0.605</td>\n      <td>4.4493</td>\n      <td>1.025941</td>\n    </tr>\n    <tr>\n      <th>72</th>\n      <td>2047</td>\n      <td>0.590</td>\n      <td>4.5578</td>\n      <td>1.024386</td>\n    </tr>\n    <tr>\n      <th>73</th>\n      <td>2048</td>\n      <td>0.578</td>\n      <td>4.6596</td>\n      <td>1.022335</td>\n    </tr>\n    <tr>\n      <th>74</th>\n      <td>2049</td>\n      <td>0.565</td>\n      <td>4.7590</td>\n      <td>1.021332</td>\n    </tr>\n    <tr>\n      <th>75</th>\n      <td>2050</td>\n      <td>0.554</td>\n      <td>4.8582</td>\n      <td>1.020845</td>\n    </tr>\n  </tbody>\n</table>\n<p>76 rows × 4 columns</p>\n</div>"
     },
     "execution_count": 20,
     "metadata": {},
     "output_type": "execute_result"
    }
   ],
   "source": [
    "parameter = pd.read_csv(Excel_data_parameter).astype({'Year':'int64'})\n",
    "\n",
    "# add Calculate inflation using CPI (current year vs. previous year)\n",
    "for year in range(min(parameter['Year'])+1, max(parameter['Year'])+1):\n",
    "    cpi_prev_year = parameter.loc[parameter['Year'] == year - 1, 'CPI'].item()\n",
    "    parameter.loc[parameter['Year'] == year, 'indecies'] = parameter.loc[parameter['Year'] == year, 'CPI'] / cpi_prev_year\n",
    "\n",
    "\n",
    "if replace_parameter:\n",
    "    parameter.to_csv(data_config['input_parameter'],index=False)\n",
    "\n",
    "parameter"
   ]
  },
  {
   "cell_type": "code",
   "execution_count": 12,
   "outputs": [
    {
     "data": {
      "text/plain": "               County PopulationArea  Year  Population\n0         King County         Cities  2000     1387812\n1         King County      Unincorp.  2000      349234\n2         King County          Total  2000     1737046\n3         King County           PTBA  2000     1737046\n4         King County  Sound Transit  2000     1466331\n..                ...            ...   ...         ...\n515  Snohomish County      Unincorp.  2050      480505\n516  Snohomish County          Total  2050     1206021\n517  Snohomish County           PTBA  2050      861111\n518  Snohomish County  Sound Transit  2050      737650\n519  Snohomish County   City Transit  2050      191660\n\n[520 rows x 4 columns]",
      "text/html": "<div>\n<style scoped>\n    .dataframe tbody tr th:only-of-type {\n        vertical-align: middle;\n    }\n\n    .dataframe tbody tr th {\n        vertical-align: top;\n    }\n\n    .dataframe thead th {\n        text-align: right;\n    }\n</style>\n<table border=\"1\" class=\"dataframe\">\n  <thead>\n    <tr style=\"text-align: right;\">\n      <th></th>\n      <th>County</th>\n      <th>PopulationArea</th>\n      <th>Year</th>\n      <th>Population</th>\n    </tr>\n  </thead>\n  <tbody>\n    <tr>\n      <th>0</th>\n      <td>King County</td>\n      <td>Cities</td>\n      <td>2000</td>\n      <td>1387812</td>\n    </tr>\n    <tr>\n      <th>1</th>\n      <td>King County</td>\n      <td>Unincorp.</td>\n      <td>2000</td>\n      <td>349234</td>\n    </tr>\n    <tr>\n      <th>2</th>\n      <td>King County</td>\n      <td>Total</td>\n      <td>2000</td>\n      <td>1737046</td>\n    </tr>\n    <tr>\n      <th>3</th>\n      <td>King County</td>\n      <td>PTBA</td>\n      <td>2000</td>\n      <td>1737046</td>\n    </tr>\n    <tr>\n      <th>4</th>\n      <td>King County</td>\n      <td>Sound Transit</td>\n      <td>2000</td>\n      <td>1466331</td>\n    </tr>\n    <tr>\n      <th>...</th>\n      <td>...</td>\n      <td>...</td>\n      <td>...</td>\n      <td>...</td>\n    </tr>\n    <tr>\n      <th>515</th>\n      <td>Snohomish County</td>\n      <td>Unincorp.</td>\n      <td>2050</td>\n      <td>480505</td>\n    </tr>\n    <tr>\n      <th>516</th>\n      <td>Snohomish County</td>\n      <td>Total</td>\n      <td>2050</td>\n      <td>1206021</td>\n    </tr>\n    <tr>\n      <th>517</th>\n      <td>Snohomish County</td>\n      <td>PTBA</td>\n      <td>2050</td>\n      <td>861111</td>\n    </tr>\n    <tr>\n      <th>518</th>\n      <td>Snohomish County</td>\n      <td>Sound Transit</td>\n      <td>2050</td>\n      <td>737650</td>\n    </tr>\n    <tr>\n      <th>519</th>\n      <td>Snohomish County</td>\n      <td>City Transit</td>\n      <td>2050</td>\n      <td>191660</td>\n    </tr>\n  </tbody>\n</table>\n<p>520 rows × 4 columns</p>\n</div>"
     },
     "execution_count": 12,
     "metadata": {},
     "output_type": "execute_result"
    }
   ],
   "source": [
    "# Subarea Allocation Bases - Population\n",
    "df = pd.read_csv(Excel_data_subarea_population)\n",
    "subarea_population = pd.melt(df,\n",
    "                             id_vars=['County', 'PopulationArea'],\n",
    "                             value_vars=df.columns[2:],\n",
    "                             var_name='Year',\n",
    "                             value_name='Population').dropna().astype(\n",
    "    {'Year': 'int64', 'County': str, 'PopulationArea': str, 'Population': 'int64'})\n",
    "\n",
    "if replace_subarea_population:\n",
    "    subarea_population.to_csv(data_config['input_subarea_population'],index=False)\n",
    "\n",
    "subarea_population"
   ],
   "metadata": {
    "collapsed": false
   }
  },
  {
   "cell_type": "code",
   "execution_count": 11,
   "outputs": [
    {
     "data": {
      "text/plain": "        Transit Agency  Year  Boardings\n0    Community Transit  1989    4022714\n1      Everett Transit  1989    1293449\n2    King County Metro  1989   77434636\n3       Kitsap Transit  1989    2397979\n4       Pierce Transit  1989   10531566\n..                 ...   ...        ...\n145  Community Transit  2018   14374078\n146    Everett Transit  2018    1929323\n147  King County Metro  2018  128389832\n148     Kitsap Transit  2018    3828754\n149     Pierce Transit  2018    9738036\n\n[150 rows x 3 columns]",
      "text/html": "<div>\n<style scoped>\n    .dataframe tbody tr th:only-of-type {\n        vertical-align: middle;\n    }\n\n    .dataframe tbody tr th {\n        vertical-align: top;\n    }\n\n    .dataframe thead th {\n        text-align: right;\n    }\n</style>\n<table border=\"1\" class=\"dataframe\">\n  <thead>\n    <tr style=\"text-align: right;\">\n      <th></th>\n      <th>Transit Agency</th>\n      <th>Year</th>\n      <th>Boardings</th>\n    </tr>\n  </thead>\n  <tbody>\n    <tr>\n      <th>0</th>\n      <td>Community Transit</td>\n      <td>1989</td>\n      <td>4022714</td>\n    </tr>\n    <tr>\n      <th>1</th>\n      <td>Everett Transit</td>\n      <td>1989</td>\n      <td>1293449</td>\n    </tr>\n    <tr>\n      <th>2</th>\n      <td>King County Metro</td>\n      <td>1989</td>\n      <td>77434636</td>\n    </tr>\n    <tr>\n      <th>3</th>\n      <td>Kitsap Transit</td>\n      <td>1989</td>\n      <td>2397979</td>\n    </tr>\n    <tr>\n      <th>4</th>\n      <td>Pierce Transit</td>\n      <td>1989</td>\n      <td>10531566</td>\n    </tr>\n    <tr>\n      <th>...</th>\n      <td>...</td>\n      <td>...</td>\n      <td>...</td>\n    </tr>\n    <tr>\n      <th>145</th>\n      <td>Community Transit</td>\n      <td>2018</td>\n      <td>14374078</td>\n    </tr>\n    <tr>\n      <th>146</th>\n      <td>Everett Transit</td>\n      <td>2018</td>\n      <td>1929323</td>\n    </tr>\n    <tr>\n      <th>147</th>\n      <td>King County Metro</td>\n      <td>2018</td>\n      <td>128389832</td>\n    </tr>\n    <tr>\n      <th>148</th>\n      <td>Kitsap Transit</td>\n      <td>2018</td>\n      <td>3828754</td>\n    </tr>\n    <tr>\n      <th>149</th>\n      <td>Pierce Transit</td>\n      <td>2018</td>\n      <td>9738036</td>\n    </tr>\n  </tbody>\n</table>\n<p>150 rows × 3 columns</p>\n</div>"
     },
     "execution_count": 11,
     "metadata": {},
     "output_type": "execute_result"
    }
   ],
   "source": [
    "# Local Transit - Total Fixed-Route boardings\n",
    "df = pd.read_csv(Excel_data_boardings_local_transit)\n",
    "\n",
    "transit_boardings = pd.melt(df,\n",
    "                            id_vars='Transit Agency',\n",
    "                            value_vars=df.columns[1:],\n",
    "                            var_name='Year',\n",
    "                            value_name='Boardings (000s)').dropna().astype({'Year': 'int64'})\n",
    "\n",
    "transit_boardings['Boardings'] = transit_boardings['Boardings (000s)'].apply(\n",
    "    lambda x: x.strip().replace(',', '')).astype({'Boardings (000s)': float}) * 1e3\n",
    "transit_boardings['Boardings'] = transit_boardings['Boardings'].astype({'Boardings': int})\n",
    "transit_boardings = transit_boardings[['Transit Agency', 'Year', 'Boardings']]\n",
    "\n",
    "if replace_boardings_local_transit:\n",
    "    transit_boardings.to_csv(data_config['input_local_transit_boardings'],index=False)\n",
    "\n",
    "transit_boardings"
   ],
   "metadata": {
    "collapsed": false
   }
  },
  {
   "cell_type": "code",
   "execution_count": 10,
   "outputs": [
    {
     "data": {
      "text/plain": "        Transit Agency  Year  Average Fare per Boarding ($)\n0    Community Transit  1989                       0.811890\n1      Everett Transit  1989                       0.214929\n2    King County Metro  1989                       0.474413\n3       Kitsap Transit  1989                       0.309010\n4       Pierce Transit  1989                       0.334518\n..                 ...   ...                            ...\n145  Community Transit  2018                       1.558291\n146    Everett Transit  2018                       0.634419\n147  King County Metro  2018                       1.370389\n148     Kitsap Transit  2018                       1.719619\n149     Pierce Transit  2018                       1.233719\n\n[150 rows x 3 columns]",
      "text/html": "<div>\n<style scoped>\n    .dataframe tbody tr th:only-of-type {\n        vertical-align: middle;\n    }\n\n    .dataframe tbody tr th {\n        vertical-align: top;\n    }\n\n    .dataframe thead th {\n        text-align: right;\n    }\n</style>\n<table border=\"1\" class=\"dataframe\">\n  <thead>\n    <tr style=\"text-align: right;\">\n      <th></th>\n      <th>Transit Agency</th>\n      <th>Year</th>\n      <th>Average Fare per Boarding ($)</th>\n    </tr>\n  </thead>\n  <tbody>\n    <tr>\n      <th>0</th>\n      <td>Community Transit</td>\n      <td>1989</td>\n      <td>0.811890</td>\n    </tr>\n    <tr>\n      <th>1</th>\n      <td>Everett Transit</td>\n      <td>1989</td>\n      <td>0.214929</td>\n    </tr>\n    <tr>\n      <th>2</th>\n      <td>King County Metro</td>\n      <td>1989</td>\n      <td>0.474413</td>\n    </tr>\n    <tr>\n      <th>3</th>\n      <td>Kitsap Transit</td>\n      <td>1989</td>\n      <td>0.309010</td>\n    </tr>\n    <tr>\n      <th>4</th>\n      <td>Pierce Transit</td>\n      <td>1989</td>\n      <td>0.334518</td>\n    </tr>\n    <tr>\n      <th>...</th>\n      <td>...</td>\n      <td>...</td>\n      <td>...</td>\n    </tr>\n    <tr>\n      <th>145</th>\n      <td>Community Transit</td>\n      <td>2018</td>\n      <td>1.558291</td>\n    </tr>\n    <tr>\n      <th>146</th>\n      <td>Everett Transit</td>\n      <td>2018</td>\n      <td>0.634419</td>\n    </tr>\n    <tr>\n      <th>147</th>\n      <td>King County Metro</td>\n      <td>2018</td>\n      <td>1.370389</td>\n    </tr>\n    <tr>\n      <th>148</th>\n      <td>Kitsap Transit</td>\n      <td>2018</td>\n      <td>1.719619</td>\n    </tr>\n    <tr>\n      <th>149</th>\n      <td>Pierce Transit</td>\n      <td>2018</td>\n      <td>1.233719</td>\n    </tr>\n  </tbody>\n</table>\n<p>150 rows × 3 columns</p>\n</div>"
     },
     "execution_count": 10,
     "metadata": {},
     "output_type": "execute_result"
    }
   ],
   "source": [
    "# Average Fixed-Route fare per boarding with periodic increases\n",
    "df = pd.read_csv(Excel_data_fare_per_boarding_local_transit)\n",
    "\n",
    "fare_per_boarding = pd.melt(df, id_vars='Transit Agency', value_vars=df.columns[1:], var_name = 'Year', value_name='Average Fare per Boarding ($)').dropna().astype({'Year': 'int64','Average Fare per Boarding ($)':'float'})\n",
    "\n",
    "\n",
    "if replace_fare_per_boarding_local_transit:\n",
    "    fare_per_boarding.to_csv(data_config['input_local_transit_fare_per_boarding'],index=False)\n",
    "\n",
    "fare_per_boarding"
   ],
   "metadata": {
    "collapsed": false
   }
  },
  {
   "cell_type": "code",
   "execution_count": 5,
   "outputs": [
    {
     "data": {
      "text/plain": "         Revenue Type     Transit Agency  Year    Nominal\n0     Sales & Use Tax  Community Transit  1989  8088000.0\n1                MVET  Community Transit  1989  8088000.0\n2               Fares  Community Transit  1989  3266000.0\n9     Sales & Use Tax    Everett Transit  1989  4177000.0\n10               MVET    Everett Transit  1989        0.0\n...               ...                ...   ...        ...\n1435    Non-PSRC FHWA     Pierce Transit  2020        0.0\n1436         PSRC FTA     Pierce Transit  2020  8351312.0\n1437     Non-PSRC FTA     Pierce Transit  2020        0.0\n1438            State     Pierce Transit  2020        0.0\n1439    Other Federal     Pierce Transit  2020        0.0\n\n[610 rows x 4 columns]",
      "text/html": "<div>\n<style scoped>\n    .dataframe tbody tr th:only-of-type {\n        vertical-align: middle;\n    }\n\n    .dataframe tbody tr th {\n        vertical-align: top;\n    }\n\n    .dataframe thead th {\n        text-align: right;\n    }\n</style>\n<table border=\"1\" class=\"dataframe\">\n  <thead>\n    <tr style=\"text-align: right;\">\n      <th></th>\n      <th>Revenue Type</th>\n      <th>Transit Agency</th>\n      <th>Year</th>\n      <th>Nominal</th>\n    </tr>\n  </thead>\n  <tbody>\n    <tr>\n      <th>0</th>\n      <td>Sales &amp; Use Tax</td>\n      <td>Community Transit</td>\n      <td>1989</td>\n      <td>8088000.0</td>\n    </tr>\n    <tr>\n      <th>1</th>\n      <td>MVET</td>\n      <td>Community Transit</td>\n      <td>1989</td>\n      <td>8088000.0</td>\n    </tr>\n    <tr>\n      <th>2</th>\n      <td>Fares</td>\n      <td>Community Transit</td>\n      <td>1989</td>\n      <td>3266000.0</td>\n    </tr>\n    <tr>\n      <th>9</th>\n      <td>Sales &amp; Use Tax</td>\n      <td>Everett Transit</td>\n      <td>1989</td>\n      <td>4177000.0</td>\n    </tr>\n    <tr>\n      <th>10</th>\n      <td>MVET</td>\n      <td>Everett Transit</td>\n      <td>1989</td>\n      <td>0.0</td>\n    </tr>\n    <tr>\n      <th>...</th>\n      <td>...</td>\n      <td>...</td>\n      <td>...</td>\n      <td>...</td>\n    </tr>\n    <tr>\n      <th>1435</th>\n      <td>Non-PSRC FHWA</td>\n      <td>Pierce Transit</td>\n      <td>2020</td>\n      <td>0.0</td>\n    </tr>\n    <tr>\n      <th>1436</th>\n      <td>PSRC FTA</td>\n      <td>Pierce Transit</td>\n      <td>2020</td>\n      <td>8351312.0</td>\n    </tr>\n    <tr>\n      <th>1437</th>\n      <td>Non-PSRC FTA</td>\n      <td>Pierce Transit</td>\n      <td>2020</td>\n      <td>0.0</td>\n    </tr>\n    <tr>\n      <th>1438</th>\n      <td>State</td>\n      <td>Pierce Transit</td>\n      <td>2020</td>\n      <td>0.0</td>\n    </tr>\n    <tr>\n      <th>1439</th>\n      <td>Other Federal</td>\n      <td>Pierce Transit</td>\n      <td>2020</td>\n      <td>0.0</td>\n    </tr>\n  </tbody>\n</table>\n<p>610 rows × 4 columns</p>\n</div>"
     },
     "execution_count": 5,
     "metadata": {},
     "output_type": "execute_result"
    }
   ],
   "source": [
    "# Local Transit Revenue\n",
    "df = pd.read_csv(Excel_data_revenue_local_transit)\n",
    "\n",
    "# wide to long\n",
    "transit_revenue = pd.melt(df, id_vars=['Revenue Type', 'Transit Agency'], value_vars=df.columns[2:], var_name = 'Year', value_name='Nominal $millions').dropna().astype({'Year':'int64'})\n",
    "# calculate normal value\n",
    "transit_revenue['Nominal'] = transit_revenue['Nominal $millions']*1e6\n",
    "transit_revenue = transit_revenue[['Revenue Type', 'Transit Agency', 'Year', 'Nominal']]\n",
    "\n",
    "\n",
    "if replace_revenue_local_transit:\n",
    " transit_revenue.to_csv(data_config['data_revenue_local_transit'],index=False)\n",
    "\n",
    "transit_revenue"
   ],
   "metadata": {
    "collapsed": false
   }
  },
  {
   "cell_type": "code",
   "execution_count": 31,
   "outputs": [
    {
     "data": {
      "text/plain": "                        County          Tax Base Category  Year         Value\n0     4-County regional Totals  Personal Income (nominal)  1975  1.333858e+10\n1     4-County regional Totals                 Population  1975  1.963090e+06\n2     4-County regional Totals                 Employment  1975  7.192383e+05\n3     4-County regional Totals     Retail Sales (nominal)  1975  7.428915e+09\n4     4-County regional Totals          Motor Fuel (gal.)  1975  9.415027e+08\n...                        ...                        ...   ...           ...\n1819             Pierce County        Cars and Gas Trucks  2050  1.160648e+06\n1820          Snohomish County                 Population  2050  1.215036e+06\n1821          Snohomish County                 Employment  2050  5.055630e+05\n1822          Snohomish County     Retail Sales (nominal)  2050  3.795396e+10\n1823          Snohomish County        Cars and Gas Trucks  2050  1.212191e+06\n\n[1820 rows x 4 columns]",
      "text/html": "<div>\n<style scoped>\n    .dataframe tbody tr th:only-of-type {\n        vertical-align: middle;\n    }\n\n    .dataframe tbody tr th {\n        vertical-align: top;\n    }\n\n    .dataframe thead th {\n        text-align: right;\n    }\n</style>\n<table border=\"1\" class=\"dataframe\">\n  <thead>\n    <tr style=\"text-align: right;\">\n      <th></th>\n      <th>County</th>\n      <th>Tax Base Category</th>\n      <th>Year</th>\n      <th>Value</th>\n    </tr>\n  </thead>\n  <tbody>\n    <tr>\n      <th>0</th>\n      <td>4-County regional Totals</td>\n      <td>Personal Income (nominal)</td>\n      <td>1975</td>\n      <td>1.333858e+10</td>\n    </tr>\n    <tr>\n      <th>1</th>\n      <td>4-County regional Totals</td>\n      <td>Population</td>\n      <td>1975</td>\n      <td>1.963090e+06</td>\n    </tr>\n    <tr>\n      <th>2</th>\n      <td>4-County regional Totals</td>\n      <td>Employment</td>\n      <td>1975</td>\n      <td>7.192383e+05</td>\n    </tr>\n    <tr>\n      <th>3</th>\n      <td>4-County regional Totals</td>\n      <td>Retail Sales (nominal)</td>\n      <td>1975</td>\n      <td>7.428915e+09</td>\n    </tr>\n    <tr>\n      <th>4</th>\n      <td>4-County regional Totals</td>\n      <td>Motor Fuel (gal.)</td>\n      <td>1975</td>\n      <td>9.415027e+08</td>\n    </tr>\n    <tr>\n      <th>...</th>\n      <td>...</td>\n      <td>...</td>\n      <td>...</td>\n      <td>...</td>\n    </tr>\n    <tr>\n      <th>1819</th>\n      <td>Pierce County</td>\n      <td>Cars and Gas Trucks</td>\n      <td>2050</td>\n      <td>1.160648e+06</td>\n    </tr>\n    <tr>\n      <th>1820</th>\n      <td>Snohomish County</td>\n      <td>Population</td>\n      <td>2050</td>\n      <td>1.215036e+06</td>\n    </tr>\n    <tr>\n      <th>1821</th>\n      <td>Snohomish County</td>\n      <td>Employment</td>\n      <td>2050</td>\n      <td>5.055630e+05</td>\n    </tr>\n    <tr>\n      <th>1822</th>\n      <td>Snohomish County</td>\n      <td>Retail Sales (nominal)</td>\n      <td>2050</td>\n      <td>3.795396e+10</td>\n    </tr>\n    <tr>\n      <th>1823</th>\n      <td>Snohomish County</td>\n      <td>Cars and Gas Trucks</td>\n      <td>2050</td>\n      <td>1.212191e+06</td>\n    </tr>\n  </tbody>\n</table>\n<p>1820 rows × 4 columns</p>\n</div>"
     },
     "execution_count": 31,
     "metadata": {},
     "output_type": "execute_result"
    }
   ],
   "source": [
    "df = pd.read_csv(Excel_data_tax_base)\n",
    "df\n",
    "\n",
    "tax_base = pd.melt(df, id_vars=['County','Tax Base Category'], value_vars=df.columns[2:], var_name = 'Year', value_name='Values').dropna()\n",
    "# transit_boardings['Boardings'] = transit_boardings['Boardings (000s)'].apply(lambda x: x.strip().replace(',', '')).astype({'Boardings (000s)':float})*1e3\n",
    "tax_base[\"Multiplier\"] = 1e6\n",
    "tax_base.loc[tax_base[\"Tax Base Category\"].str.contains(\"000s\"), \"Multiplier\"] = 1e3\n",
    "tax_base.loc[tax_base[\"Tax Base Category\"].str.contains(\"Diesel\"), \"Multiplier\"] = 1\n",
    "tax_base[\"Value\"] = tax_base[\"Multiplier\"] * tax_base[\"Values\"]\n",
    "tax_base[\"Tax Base Category\"] = np.where(tax_base[\"Tax Base Category\"] == 'Personal Income (nominal $mil) ',\n",
    "                                          'Personal Income (nominal)',\n",
    "                                 np.where(tax_base[\"Tax Base Category\"] == 'Population (000s) ','Population',\n",
    "                                 np.where(tax_base[\"Tax Base Category\"] == 'Employment (000s) ','Employment',\n",
    "                                 np.where(tax_base[\"Tax Base Category\"] == 'Retail Sales (nominal $mil) ','Retail Sales (nominal)',\n",
    "                                 np.where(tax_base[\"Tax Base Category\"] == 'Motor Fuel (gal. Mil.) ','Motor Fuel (gal.)',\n",
    "                                 np.where(tax_base[\"Tax Base Category\"] == 'Cars and Gas Trucks (000s)','Cars and Gas Trucks',\n",
    "                                 np.where(tax_base[\"Tax Base Category\"] == 'Diesel','Diesel',tax_base[\"Tax Base Category\"])))))))\n",
    "tax_base = tax_base[['County', 'Tax Base Category', 'Year','Value']]\n",
    "\n",
    "if replace_tax_base:\n",
    "    tax_base.to_csv(data_config['data_tax_base'],index=False)\n",
    "\n",
    "tax_base"
   ],
   "metadata": {
    "collapsed": false
   }
  },
  {
   "cell_type": "code",
   "execution_count": 7,
   "outputs": [
    {
     "data": {
      "text/plain": "                        County                Tax Base Category  Year  \\\n0     4-County regional Totals  Personal Income (nominal $mil)   1975   \n1     4-County regional Totals               Population (000s)   1975   \n2     4-County regional Totals               Employment (000s)   1975   \n3     4-County regional Totals     Retail Sales (nominal $mil)   1975   \n4     4-County regional Totals          Motor Fuel (gal. Mil.)   1975   \n...                        ...                              ...   ...   \n1819             Pierce County       Cars and Gas Trucks (000s)  2050   \n1820          Snohomish County               Population (000s)   2050   \n1821          Snohomish County               Employment (000s)   2050   \n1822          Snohomish County     Retail Sales (nominal $mil)   2050   \n1823          Snohomish County       Cars and Gas Trucks (000s)  2050   \n\n            Values  Multiplier    True Value  \n0     13338.578310   1000000.0  1.333858e+10  \n1      1963.090000      1000.0  1.963090e+06  \n2       719.238335      1000.0  7.192383e+05  \n3      7428.915395   1000000.0  7.428915e+09  \n4       941.502657   1000000.0  9.415027e+08  \n...            ...         ...           ...  \n1819   1160.648093      1000.0  1.160648e+06  \n1820   1215.036446      1000.0  1.215036e+06  \n1821    505.563009      1000.0  5.055630e+05  \n1822  37953.962990   1000000.0  3.795396e+10  \n1823   1212.191083      1000.0  1.212191e+06  \n\n[1820 rows x 6 columns]",
      "text/html": "<div>\n<style scoped>\n    .dataframe tbody tr th:only-of-type {\n        vertical-align: middle;\n    }\n\n    .dataframe tbody tr th {\n        vertical-align: top;\n    }\n\n    .dataframe thead th {\n        text-align: right;\n    }\n</style>\n<table border=\"1\" class=\"dataframe\">\n  <thead>\n    <tr style=\"text-align: right;\">\n      <th></th>\n      <th>County</th>\n      <th>Tax Base Category</th>\n      <th>Year</th>\n      <th>Values</th>\n      <th>Multiplier</th>\n      <th>True Value</th>\n    </tr>\n  </thead>\n  <tbody>\n    <tr>\n      <th>0</th>\n      <td>4-County regional Totals</td>\n      <td>Personal Income (nominal $mil)</td>\n      <td>1975</td>\n      <td>13338.578310</td>\n      <td>1000000.0</td>\n      <td>1.333858e+10</td>\n    </tr>\n    <tr>\n      <th>1</th>\n      <td>4-County regional Totals</td>\n      <td>Population (000s)</td>\n      <td>1975</td>\n      <td>1963.090000</td>\n      <td>1000.0</td>\n      <td>1.963090e+06</td>\n    </tr>\n    <tr>\n      <th>2</th>\n      <td>4-County regional Totals</td>\n      <td>Employment (000s)</td>\n      <td>1975</td>\n      <td>719.238335</td>\n      <td>1000.0</td>\n      <td>7.192383e+05</td>\n    </tr>\n    <tr>\n      <th>3</th>\n      <td>4-County regional Totals</td>\n      <td>Retail Sales (nominal $mil)</td>\n      <td>1975</td>\n      <td>7428.915395</td>\n      <td>1000000.0</td>\n      <td>7.428915e+09</td>\n    </tr>\n    <tr>\n      <th>4</th>\n      <td>4-County regional Totals</td>\n      <td>Motor Fuel (gal. Mil.)</td>\n      <td>1975</td>\n      <td>941.502657</td>\n      <td>1000000.0</td>\n      <td>9.415027e+08</td>\n    </tr>\n    <tr>\n      <th>...</th>\n      <td>...</td>\n      <td>...</td>\n      <td>...</td>\n      <td>...</td>\n      <td>...</td>\n      <td>...</td>\n    </tr>\n    <tr>\n      <th>1819</th>\n      <td>Pierce County</td>\n      <td>Cars and Gas Trucks (000s)</td>\n      <td>2050</td>\n      <td>1160.648093</td>\n      <td>1000.0</td>\n      <td>1.160648e+06</td>\n    </tr>\n    <tr>\n      <th>1820</th>\n      <td>Snohomish County</td>\n      <td>Population (000s)</td>\n      <td>2050</td>\n      <td>1215.036446</td>\n      <td>1000.0</td>\n      <td>1.215036e+06</td>\n    </tr>\n    <tr>\n      <th>1821</th>\n      <td>Snohomish County</td>\n      <td>Employment (000s)</td>\n      <td>2050</td>\n      <td>505.563009</td>\n      <td>1000.0</td>\n      <td>5.055630e+05</td>\n    </tr>\n    <tr>\n      <th>1822</th>\n      <td>Snohomish County</td>\n      <td>Retail Sales (nominal $mil)</td>\n      <td>2050</td>\n      <td>37953.962990</td>\n      <td>1000000.0</td>\n      <td>3.795396e+10</td>\n    </tr>\n    <tr>\n      <th>1823</th>\n      <td>Snohomish County</td>\n      <td>Cars and Gas Trucks (000s)</td>\n      <td>2050</td>\n      <td>1212.191083</td>\n      <td>1000.0</td>\n      <td>1.212191e+06</td>\n    </tr>\n  </tbody>\n</table>\n<p>1820 rows × 6 columns</p>\n</div>"
     },
     "execution_count": 7,
     "metadata": {},
     "output_type": "execute_result"
    }
   ],
   "source": [
    "tax_base"
   ],
   "metadata": {
    "collapsed": false
   }
  }
 ],
 "metadata": {
  "kernelspec": {
   "display_name": "Python 3",
   "language": "python",
   "name": "python3"
  },
  "language_info": {
   "codemirror_mode": {
    "name": "ipython",
    "version": 2
   },
   "file_extension": ".py",
   "mimetype": "text/x-python",
   "name": "python",
   "nbconvert_exporter": "python",
   "pygments_lexer": "ipython2",
   "version": "2.7.6"
  }
 },
 "nbformat": 4,
 "nbformat_minor": 0
}
