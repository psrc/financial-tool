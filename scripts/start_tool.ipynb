{
 "cells": [
  {
   "cell_type": "code",
   "execution_count": 1,
   "metadata": {
    "collapsed": true
   },
   "outputs": [],
   "source": [
    "import pandas as pd\n",
    "import numpy as np\n",
    "import math\n",
    "import toml\n",
    "import os\n",
    "import forecasting_tool\n",
    "\n",
    "\n",
    "data_config = toml.load(os.path.join(os.getcwd(), \"../configuration.toml\"))\n"
   ]
  },
  {
   "cell_type": "markdown",
   "source": [
    "## Read from spreadsheet and create dataframe inputs\n"
   ],
   "metadata": {
    "collapsed": false
   }
  },
  {
   "cell_type": "markdown",
   "source": [
    "## PV Factor and CPI\n",
    "   - used to canculate constant local transit revenue"
   ],
   "metadata": {
    "collapsed": false
   }
  },
  {
   "cell_type": "code",
   "execution_count": 2,
   "outputs": [
    {
     "data": {
      "text/plain": "    Year  PV factor     CPI  indecies\n0   1975      5.312  0.5066       NaN\n1   1976      5.047  0.5332  1.052507\n2   1977      4.658  0.5778  1.083646\n3   1978      4.241  0.6345  1.098131\n4   1979      3.864  0.6965  1.097715\n..   ...        ...     ...       ...\n71  2046      0.605  4.4493  1.025941\n72  2047      0.590  4.5578  1.024386\n73  2048      0.578  4.6596  1.022335\n74  2049      0.565  4.7590  1.021332\n75  2050      0.554  4.8582  1.020845\n\n[76 rows x 4 columns]",
      "text/html": "<div>\n<style scoped>\n    .dataframe tbody tr th:only-of-type {\n        vertical-align: middle;\n    }\n\n    .dataframe tbody tr th {\n        vertical-align: top;\n    }\n\n    .dataframe thead th {\n        text-align: right;\n    }\n</style>\n<table border=\"1\" class=\"dataframe\">\n  <thead>\n    <tr style=\"text-align: right;\">\n      <th></th>\n      <th>Year</th>\n      <th>PV factor</th>\n      <th>CPI</th>\n      <th>indecies</th>\n    </tr>\n  </thead>\n  <tbody>\n    <tr>\n      <th>0</th>\n      <td>1975</td>\n      <td>5.312</td>\n      <td>0.5066</td>\n      <td>NaN</td>\n    </tr>\n    <tr>\n      <th>1</th>\n      <td>1976</td>\n      <td>5.047</td>\n      <td>0.5332</td>\n      <td>1.052507</td>\n    </tr>\n    <tr>\n      <th>2</th>\n      <td>1977</td>\n      <td>4.658</td>\n      <td>0.5778</td>\n      <td>1.083646</td>\n    </tr>\n    <tr>\n      <th>3</th>\n      <td>1978</td>\n      <td>4.241</td>\n      <td>0.6345</td>\n      <td>1.098131</td>\n    </tr>\n    <tr>\n      <th>4</th>\n      <td>1979</td>\n      <td>3.864</td>\n      <td>0.6965</td>\n      <td>1.097715</td>\n    </tr>\n    <tr>\n      <th>...</th>\n      <td>...</td>\n      <td>...</td>\n      <td>...</td>\n      <td>...</td>\n    </tr>\n    <tr>\n      <th>71</th>\n      <td>2046</td>\n      <td>0.605</td>\n      <td>4.4493</td>\n      <td>1.025941</td>\n    </tr>\n    <tr>\n      <th>72</th>\n      <td>2047</td>\n      <td>0.590</td>\n      <td>4.5578</td>\n      <td>1.024386</td>\n    </tr>\n    <tr>\n      <th>73</th>\n      <td>2048</td>\n      <td>0.578</td>\n      <td>4.6596</td>\n      <td>1.022335</td>\n    </tr>\n    <tr>\n      <th>74</th>\n      <td>2049</td>\n      <td>0.565</td>\n      <td>4.7590</td>\n      <td>1.021332</td>\n    </tr>\n    <tr>\n      <th>75</th>\n      <td>2050</td>\n      <td>0.554</td>\n      <td>4.8582</td>\n      <td>1.020845</td>\n    </tr>\n  </tbody>\n</table>\n<p>76 rows × 4 columns</p>\n</div>"
     },
     "execution_count": 2,
     "metadata": {},
     "output_type": "execute_result"
    }
   ],
   "source": [
    "parameter = pd.read_csv(data_config['parameter']).astype({'Year':'int64'})\n",
    "parameter"
   ],
   "metadata": {
    "collapsed": false
   }
  },
  {
   "cell_type": "markdown",
   "source": [
    "# Population\n",
    "  - create function to calculate all year"
   ],
   "metadata": {
    "collapsed": false
   }
  },
  {
   "cell_type": "code",
   "execution_count": 3,
   "outputs": [
    {
     "data": {
      "text/plain": "                County PopulationArea  Year  Population\n0          King County         Cities  2000   1387812.0\n1          King County         Cities  2001   1404829.0\n2          King County         Cities  2002   1427263.0\n3          King County         Cities  2003   1436622.0\n4          King County         Cities  2004   1443623.0\n...                ...            ...   ...         ...\n1015  Snohomish County   City Transit  2046    182008.0\n1016  Snohomish County   City Transit  2047    184374.0\n1017  Snohomish County   City Transit  2048    186772.0\n1018  Snohomish County   City Transit  2049    189200.0\n1019  Snohomish County   City Transit  2050    191660.0\n\n[1020 rows x 4 columns]",
      "text/html": "<div>\n<style scoped>\n    .dataframe tbody tr th:only-of-type {\n        vertical-align: middle;\n    }\n\n    .dataframe tbody tr th {\n        vertical-align: top;\n    }\n\n    .dataframe thead th {\n        text-align: right;\n    }\n</style>\n<table border=\"1\" class=\"dataframe\">\n  <thead>\n    <tr style=\"text-align: right;\">\n      <th></th>\n      <th>County</th>\n      <th>PopulationArea</th>\n      <th>Year</th>\n      <th>Population</th>\n    </tr>\n  </thead>\n  <tbody>\n    <tr>\n      <th>0</th>\n      <td>King County</td>\n      <td>Cities</td>\n      <td>2000</td>\n      <td>1387812.0</td>\n    </tr>\n    <tr>\n      <th>1</th>\n      <td>King County</td>\n      <td>Cities</td>\n      <td>2001</td>\n      <td>1404829.0</td>\n    </tr>\n    <tr>\n      <th>2</th>\n      <td>King County</td>\n      <td>Cities</td>\n      <td>2002</td>\n      <td>1427263.0</td>\n    </tr>\n    <tr>\n      <th>3</th>\n      <td>King County</td>\n      <td>Cities</td>\n      <td>2003</td>\n      <td>1436622.0</td>\n    </tr>\n    <tr>\n      <th>4</th>\n      <td>King County</td>\n      <td>Cities</td>\n      <td>2004</td>\n      <td>1443623.0</td>\n    </tr>\n    <tr>\n      <th>...</th>\n      <td>...</td>\n      <td>...</td>\n      <td>...</td>\n      <td>...</td>\n    </tr>\n    <tr>\n      <th>1015</th>\n      <td>Snohomish County</td>\n      <td>City Transit</td>\n      <td>2046</td>\n      <td>182008.0</td>\n    </tr>\n    <tr>\n      <th>1016</th>\n      <td>Snohomish County</td>\n      <td>City Transit</td>\n      <td>2047</td>\n      <td>184374.0</td>\n    </tr>\n    <tr>\n      <th>1017</th>\n      <td>Snohomish County</td>\n      <td>City Transit</td>\n      <td>2048</td>\n      <td>186772.0</td>\n    </tr>\n    <tr>\n      <th>1018</th>\n      <td>Snohomish County</td>\n      <td>City Transit</td>\n      <td>2049</td>\n      <td>189200.0</td>\n    </tr>\n    <tr>\n      <th>1019</th>\n      <td>Snohomish County</td>\n      <td>City Transit</td>\n      <td>2050</td>\n      <td>191660.0</td>\n    </tr>\n  </tbody>\n</table>\n<p>1020 rows × 4 columns</p>\n</div>"
     },
     "execution_count": 3,
     "metadata": {},
     "output_type": "execute_result"
    }
   ],
   "source": [
    "subarea_population = pd.read_csv(data_config['data_subarea_population'])\n",
    "\n",
    "result_subarea_population = pd.DataFrame()\n",
    "for i_county in data_config['all_counties']:\n",
    "    for i_pop_area in subarea_population.PopulationArea.unique():\n",
    "\n",
    "        df_pop = subarea_population[\n",
    "            (subarea_population['County'] == i_county) & (subarea_population['PopulationArea'] == i_pop_area)].copy()\n",
    "\n",
    "        if df_pop.empty:\n",
    "            pass\n",
    "\n",
    "        else:\n",
    "            start_year = int(df_pop['Year'].min())\n",
    "            end_year = int(df_pop['Year'].max())\n",
    "            # fill in missing years\n",
    "            df_pop = forecasting_tool.fill_year(df_pop, ['County', 'PopulationArea'], start_year, end_year)\n",
    "            # calculate interpolated population\n",
    "            df_pop['Population'] = forecasting_tool.interpolate_population(df_pop, 'Population', start_year, end_year)\n",
    "            df_pop = df_pop[['County', 'PopulationArea', 'Year', 'Population']]\n",
    "\n",
    "            result_subarea_population = pd.concat([result_subarea_population, df_pop], ignore_index=True)\n",
    "\n",
    "result_subarea_population"
   ],
   "metadata": {
    "collapsed": false
   }
  },
  {
   "cell_type": "markdown",
   "source": [
    "### Actual transit boardings (000s) from Local Transit Tab\n",
    "- Year 2018 and before"
   ],
   "metadata": {
    "collapsed": false
   }
  },
  {
   "cell_type": "code",
   "execution_count": 4,
   "outputs": [
    {
     "data": {
      "text/plain": "        Transit Agency  Year     Boardings\n0    Community Transit  1989  4.022714e+06\n1    Community Transit  1990  4.138693e+06\n2    Community Transit  1991  4.916127e+06\n3    Community Transit  1992  5.057887e+06\n4    Community Transit  1993  5.289549e+06\n..                 ...   ...           ...\n305     Pierce Transit  2046  1.390027e+07\n306     Pierce Transit  2047  1.403806e+07\n307     Pierce Transit  2048  1.417722e+07\n308     Pierce Transit  2049  1.431775e+07\n309     Pierce Transit  2050  1.445968e+07\n\n[310 rows x 3 columns]",
      "text/html": "<div>\n<style scoped>\n    .dataframe tbody tr th:only-of-type {\n        vertical-align: middle;\n    }\n\n    .dataframe tbody tr th {\n        vertical-align: top;\n    }\n\n    .dataframe thead th {\n        text-align: right;\n    }\n</style>\n<table border=\"1\" class=\"dataframe\">\n  <thead>\n    <tr style=\"text-align: right;\">\n      <th></th>\n      <th>Transit Agency</th>\n      <th>Year</th>\n      <th>Boardings</th>\n    </tr>\n  </thead>\n  <tbody>\n    <tr>\n      <th>0</th>\n      <td>Community Transit</td>\n      <td>1989</td>\n      <td>4.022714e+06</td>\n    </tr>\n    <tr>\n      <th>1</th>\n      <td>Community Transit</td>\n      <td>1990</td>\n      <td>4.138693e+06</td>\n    </tr>\n    <tr>\n      <th>2</th>\n      <td>Community Transit</td>\n      <td>1991</td>\n      <td>4.916127e+06</td>\n    </tr>\n    <tr>\n      <th>3</th>\n      <td>Community Transit</td>\n      <td>1992</td>\n      <td>5.057887e+06</td>\n    </tr>\n    <tr>\n      <th>4</th>\n      <td>Community Transit</td>\n      <td>1993</td>\n      <td>5.289549e+06</td>\n    </tr>\n    <tr>\n      <th>...</th>\n      <td>...</td>\n      <td>...</td>\n      <td>...</td>\n    </tr>\n    <tr>\n      <th>305</th>\n      <td>Pierce Transit</td>\n      <td>2046</td>\n      <td>1.390027e+07</td>\n    </tr>\n    <tr>\n      <th>306</th>\n      <td>Pierce Transit</td>\n      <td>2047</td>\n      <td>1.403806e+07</td>\n    </tr>\n    <tr>\n      <th>307</th>\n      <td>Pierce Transit</td>\n      <td>2048</td>\n      <td>1.417722e+07</td>\n    </tr>\n    <tr>\n      <th>308</th>\n      <td>Pierce Transit</td>\n      <td>2049</td>\n      <td>1.431775e+07</td>\n    </tr>\n    <tr>\n      <th>309</th>\n      <td>Pierce Transit</td>\n      <td>2050</td>\n      <td>1.445968e+07</td>\n    </tr>\n  </tbody>\n</table>\n<p>310 rows × 3 columns</p>\n</div>"
     },
     "execution_count": 4,
     "metadata": {},
     "output_type": "execute_result"
    }
   ],
   "source": [
    "# Local Transit - Total Fixed-Route boardings\n",
    "transit_boardings = pd.read_csv(data_config['data_boardings_local_transit'])\n",
    "\n",
    "result_boarding = pd.DataFrame()\n",
    "for agency in data_config['county_transit']:\n",
    "\n",
    "    df_agency = transit_boardings[(transit_boardings['Transit Agency'] == agency)].copy()\n",
    "\n",
    "    # fill in missing years\n",
    "    start_year = df_agency['Year'].min()\n",
    "\n",
    "    df_agency = forecasting_tool.fill_year(df_agency, 'Transit Agency', start_year, data_config['end_year'])\n",
    "\n",
    "    # last and next year with population values\n",
    "    # Everett transit using City Transit Population for boarding estimation, others using PTBA\n",
    "    if agency == \"Everett Transit\":\n",
    "        df_agency1 = pd.merge(df_agency, result_subarea_population[\n",
    "            (result_subarea_population['County'] == data_config['county_transit'][agency]) &\n",
    "            (result_subarea_population['PopulationArea'] == 'City Transit')],\n",
    "                              how=\"left\", on=\"Year\")\n",
    "    else:\n",
    "        df_agency1 = pd.merge(df_agency, result_subarea_population[\n",
    "            (result_subarea_population['County'] == data_config['county_transit'][agency]) &\n",
    "            (result_subarea_population['PopulationArea'] == 'PTBA')],\n",
    "                              how=\"left\", on=\"Year\")\n",
    "\n",
    "    # calculation\n",
    "    for year in range(start_year, data_config['end_year'] + 1):\n",
    "        miss = df_agency1.loc[df_agency1['Year'] == year, 'Boardings'].item()\n",
    "\n",
    "        if np.isnan(miss):\n",
    "            boarding_prev_year = df_agency1.loc[df_agency1['Year'] == year - 1, 'Boardings'].item()\n",
    "            pop = df_agency1.loc[df_agency1['Year'] == year, 'Population'].item()\n",
    "            pop_prev_year = df_agency1.loc[df_agency1['Year'] == year - 1, 'Population'].item()\n",
    "\n",
    "            df_agency1.loc[df_agency1['Year'] == year, 'Boardings'] = boarding_prev_year * pop / pop_prev_year\n",
    "\n",
    "        else:\n",
    "            pass\n",
    "\n",
    "    result_boarding = pd.concat([result_boarding, df_agency1], ignore_index=True)\n",
    "\n",
    "result_boarding = result_boarding[['Transit Agency', 'Year', 'Boardings']]\n",
    "\n",
    "result_boarding"
   ],
   "metadata": {
    "collapsed": false
   }
  },
  {
   "cell_type": "markdown",
   "source": [
    "# Fare per Boarding\n"
   ],
   "metadata": {
    "collapsed": false
   }
  },
  {
   "cell_type": "code",
   "execution_count": 5,
   "outputs": [
    {
     "data": {
      "text/plain": "     Year     Transit Agency  Average Fare per Boarding ($)\n0    1989  Community Transit                       0.811890\n1    1990  Community Transit                       0.854134\n2    1991  Community Transit                       0.880978\n3    1992  Community Transit                       0.952374\n4    1993  Community Transit                       0.984394\n..    ...                ...                            ...\n305  2046     Pierce Transit                       2.934295\n306  2047     Pierce Transit                       2.934295\n307  2048     Pierce Transit                       3.489484\n308  2049     Pierce Transit                       3.489484\n309  2050     Pierce Transit                       3.489484\n\n[310 rows x 3 columns]",
      "text/html": "<div>\n<style scoped>\n    .dataframe tbody tr th:only-of-type {\n        vertical-align: middle;\n    }\n\n    .dataframe tbody tr th {\n        vertical-align: top;\n    }\n\n    .dataframe thead th {\n        text-align: right;\n    }\n</style>\n<table border=\"1\" class=\"dataframe\">\n  <thead>\n    <tr style=\"text-align: right;\">\n      <th></th>\n      <th>Year</th>\n      <th>Transit Agency</th>\n      <th>Average Fare per Boarding ($)</th>\n    </tr>\n  </thead>\n  <tbody>\n    <tr>\n      <th>0</th>\n      <td>1989</td>\n      <td>Community Transit</td>\n      <td>0.811890</td>\n    </tr>\n    <tr>\n      <th>1</th>\n      <td>1990</td>\n      <td>Community Transit</td>\n      <td>0.854134</td>\n    </tr>\n    <tr>\n      <th>2</th>\n      <td>1991</td>\n      <td>Community Transit</td>\n      <td>0.880978</td>\n    </tr>\n    <tr>\n      <th>3</th>\n      <td>1992</td>\n      <td>Community Transit</td>\n      <td>0.952374</td>\n    </tr>\n    <tr>\n      <th>4</th>\n      <td>1993</td>\n      <td>Community Transit</td>\n      <td>0.984394</td>\n    </tr>\n    <tr>\n      <th>...</th>\n      <td>...</td>\n      <td>...</td>\n      <td>...</td>\n    </tr>\n    <tr>\n      <th>305</th>\n      <td>2046</td>\n      <td>Pierce Transit</td>\n      <td>2.934295</td>\n    </tr>\n    <tr>\n      <th>306</th>\n      <td>2047</td>\n      <td>Pierce Transit</td>\n      <td>2.934295</td>\n    </tr>\n    <tr>\n      <th>307</th>\n      <td>2048</td>\n      <td>Pierce Transit</td>\n      <td>3.489484</td>\n    </tr>\n    <tr>\n      <th>308</th>\n      <td>2049</td>\n      <td>Pierce Transit</td>\n      <td>3.489484</td>\n    </tr>\n    <tr>\n      <th>309</th>\n      <td>2050</td>\n      <td>Pierce Transit</td>\n      <td>3.489484</td>\n    </tr>\n  </tbody>\n</table>\n<p>310 rows × 3 columns</p>\n</div>"
     },
     "execution_count": 5,
     "metadata": {},
     "output_type": "execute_result"
    }
   ],
   "source": [
    "# Average Fixed-Route fare per boarding with periodic increases\n",
    "fare_per_boarding = pd.read_csv(data_config[\"data_fare_per_boarding_local_transit\"])\n",
    "\n",
    "result_fare_per_boarding = pd.DataFrame()\n",
    "for agency in data_config['county_transit']:\n",
    "    fare_per_boarding1 = fare_per_boarding.copy()\n",
    "    # get the last year with actual value for creating periodic increases\n",
    "    last_value_year = max(fare_per_boarding1['Year'])\n",
    "    # base list of fare change period\n",
    "    list_grp = sorted(list(range(1,data_config['end_year']-last_value_year)) * data_config['transit_fare_change_period'][agency])\n",
    "\n",
    "    fare_per_boarding1 = forecasting_tool.fill_year(fare_per_boarding1[fare_per_boarding1['Transit Agency']==agency], 'Transit Agency', 1989, data_config['end_year'])\n",
    "\n",
    "    # Average Fixed-Route fare per boarding by Annual Growth Rate: This has the fare grown by the average annual growth rate for each transit agency based on previous 20 year history\n",
    "    for year in range(1989, data_config['end_year'] + 1):\n",
    "\n",
    "        miss = fare_per_boarding1.loc[fare_per_boarding1['Year'] == year, 'Average Fare per Boarding ($)'].item()\n",
    "\n",
    "        if np.isnan(miss):\n",
    "\n",
    "            fare_prev_year = fare_per_boarding1.loc[fare_per_boarding1['Year'] == year - 1, 'Average Fare per Boarding ($)'].item()\n",
    "\n",
    "            fare_per_boarding1.loc[fare_per_boarding1['Year'] == year, 'Average Fare per Boarding ($)'] = fare_prev_year + (fare_prev_year * data_config['transit_annual_fare_increase'][agency])\n",
    "\n",
    "        else:\n",
    "            pass\n",
    "\n",
    "    # add grouping column (trim base list to needed length)\n",
    "    fare_per_boarding1['list_grp'] = list([0] * (last_value_year-1989)) + list_grp[0:data_config['end_year']-last_value_year+1]\n",
    "    # Average Fixed-Route fare per boarding with periodic increases\n",
    "    fare_per_boarding1.loc[fare_per_boarding1['list_grp']>0,'Average Fare per Boarding ($)'] = fare_per_boarding1.loc[fare_per_boarding1['list_grp']>0,['list_grp','Average Fare per Boarding ($)']].groupby(['list_grp'])['Average Fare per Boarding ($)'].transform(min)\n",
    "    result_fare_per_boarding = pd.concat([result_fare_per_boarding, fare_per_boarding1[['Year', 'Transit Agency', 'Average Fare per Boarding ($)']]], ignore_index=True)\n",
    "result_fare_per_boarding"
   ],
   "metadata": {
    "collapsed": false
   }
  },
  {
   "cell_type": "markdown",
   "source": [
    "# Actual transit revenues (Nominal $millions) from Local Transit Tab\n"
   ],
   "metadata": {
    "collapsed": false
   }
  },
  {
   "cell_type": "markdown",
   "source": [
    "### Fare revenue calculation\n",
    "- Year 2018 and before"
   ],
   "metadata": {
    "collapsed": false
   }
  },
  {
   "cell_type": "code",
   "execution_count": 6,
   "outputs": [
    {
     "data": {
      "text/plain": "    Revenue Type     Transit Agency  Year       Nominal\n0          Fares  Community Transit  1989  3.266000e+06\n1          Fares  Community Transit  1990  3.535000e+06\n2          Fares  Community Transit  1991  4.331000e+06\n3          Fares  Community Transit  1992  4.817000e+06\n4          Fares  Community Transit  1993  5.207000e+06\n..           ...                ...   ...           ...\n305        Fares     Pierce Transit  2046  4.078749e+07\n306        Fares     Pierce Transit  2047  4.119180e+07\n307        Fares     Pierce Transit  2048  4.947117e+07\n308        Fares     Pierce Transit  2049  4.996156e+07\n309        Fares     Pierce Transit  2050  5.045681e+07\n\n[310 rows x 4 columns]",
      "text/html": "<div>\n<style scoped>\n    .dataframe tbody tr th:only-of-type {\n        vertical-align: middle;\n    }\n\n    .dataframe tbody tr th {\n        vertical-align: top;\n    }\n\n    .dataframe thead th {\n        text-align: right;\n    }\n</style>\n<table border=\"1\" class=\"dataframe\">\n  <thead>\n    <tr style=\"text-align: right;\">\n      <th></th>\n      <th>Revenue Type</th>\n      <th>Transit Agency</th>\n      <th>Year</th>\n      <th>Nominal</th>\n    </tr>\n  </thead>\n  <tbody>\n    <tr>\n      <th>0</th>\n      <td>Fares</td>\n      <td>Community Transit</td>\n      <td>1989</td>\n      <td>3.266000e+06</td>\n    </tr>\n    <tr>\n      <th>1</th>\n      <td>Fares</td>\n      <td>Community Transit</td>\n      <td>1990</td>\n      <td>3.535000e+06</td>\n    </tr>\n    <tr>\n      <th>2</th>\n      <td>Fares</td>\n      <td>Community Transit</td>\n      <td>1991</td>\n      <td>4.331000e+06</td>\n    </tr>\n    <tr>\n      <th>3</th>\n      <td>Fares</td>\n      <td>Community Transit</td>\n      <td>1992</td>\n      <td>4.817000e+06</td>\n    </tr>\n    <tr>\n      <th>4</th>\n      <td>Fares</td>\n      <td>Community Transit</td>\n      <td>1993</td>\n      <td>5.207000e+06</td>\n    </tr>\n    <tr>\n      <th>...</th>\n      <td>...</td>\n      <td>...</td>\n      <td>...</td>\n      <td>...</td>\n    </tr>\n    <tr>\n      <th>305</th>\n      <td>Fares</td>\n      <td>Pierce Transit</td>\n      <td>2046</td>\n      <td>4.078749e+07</td>\n    </tr>\n    <tr>\n      <th>306</th>\n      <td>Fares</td>\n      <td>Pierce Transit</td>\n      <td>2047</td>\n      <td>4.119180e+07</td>\n    </tr>\n    <tr>\n      <th>307</th>\n      <td>Fares</td>\n      <td>Pierce Transit</td>\n      <td>2048</td>\n      <td>4.947117e+07</td>\n    </tr>\n    <tr>\n      <th>308</th>\n      <td>Fares</td>\n      <td>Pierce Transit</td>\n      <td>2049</td>\n      <td>4.996156e+07</td>\n    </tr>\n    <tr>\n      <th>309</th>\n      <td>Fares</td>\n      <td>Pierce Transit</td>\n      <td>2050</td>\n      <td>5.045681e+07</td>\n    </tr>\n  </tbody>\n</table>\n<p>310 rows × 4 columns</p>\n</div>"
     },
     "execution_count": 6,
     "metadata": {},
     "output_type": "execute_result"
    }
   ],
   "source": [
    "transit_fare_revenue = pd.merge(result_boarding[['Year', 'Transit Agency', 'Boardings']],\n",
    "                                result_fare_per_boarding[['Year', 'Transit Agency', 'Average Fare per Boarding ($)']],\n",
    "                                on=['Year', 'Transit Agency'])\n",
    "transit_fare_revenue['Nominal'] = transit_fare_revenue['Boardings'] * transit_fare_revenue['Average Fare per Boarding ($)']\n",
    "transit_fare_revenue['Revenue Type'] = \"Fares\"\n",
    "transit_fare_revenue = transit_fare_revenue[['Revenue Type', 'Transit Agency', 'Year', 'Nominal']]\n",
    "\n",
    "transit_fare_revenue"
   ],
   "metadata": {
    "collapsed": false
   }
  },
  {
   "cell_type": "code",
   "execution_count": 42,
   "outputs": [
    {
     "data": {
      "text/plain": "        Revenue Type     Transit Agency  Year    Nominal\n0    Sales & Use Tax  Community Transit  1989  8088000.0\n1               MVET  Community Transit  1989  8088000.0\n2              Fares  Community Transit  1989  3266000.0\n3    Sales & Use Tax    Everett Transit  1989  4177000.0\n4               MVET    Everett Transit  1989        0.0\n..               ...                ...   ...        ...\n605    Non-PSRC FHWA     Pierce Transit  2020        0.0\n606         PSRC FTA     Pierce Transit  2020  8351312.0\n607     Non-PSRC FTA     Pierce Transit  2020        0.0\n608            State     Pierce Transit  2020        0.0\n609    Other Federal     Pierce Transit  2020        0.0\n\n[610 rows x 4 columns]",
      "text/html": "<div>\n<style scoped>\n    .dataframe tbody tr th:only-of-type {\n        vertical-align: middle;\n    }\n\n    .dataframe tbody tr th {\n        vertical-align: top;\n    }\n\n    .dataframe thead th {\n        text-align: right;\n    }\n</style>\n<table border=\"1\" class=\"dataframe\">\n  <thead>\n    <tr style=\"text-align: right;\">\n      <th></th>\n      <th>Revenue Type</th>\n      <th>Transit Agency</th>\n      <th>Year</th>\n      <th>Nominal</th>\n    </tr>\n  </thead>\n  <tbody>\n    <tr>\n      <th>0</th>\n      <td>Sales &amp; Use Tax</td>\n      <td>Community Transit</td>\n      <td>1989</td>\n      <td>8088000.0</td>\n    </tr>\n    <tr>\n      <th>1</th>\n      <td>MVET</td>\n      <td>Community Transit</td>\n      <td>1989</td>\n      <td>8088000.0</td>\n    </tr>\n    <tr>\n      <th>2</th>\n      <td>Fares</td>\n      <td>Community Transit</td>\n      <td>1989</td>\n      <td>3266000.0</td>\n    </tr>\n    <tr>\n      <th>3</th>\n      <td>Sales &amp; Use Tax</td>\n      <td>Everett Transit</td>\n      <td>1989</td>\n      <td>4177000.0</td>\n    </tr>\n    <tr>\n      <th>4</th>\n      <td>MVET</td>\n      <td>Everett Transit</td>\n      <td>1989</td>\n      <td>0.0</td>\n    </tr>\n    <tr>\n      <th>...</th>\n      <td>...</td>\n      <td>...</td>\n      <td>...</td>\n      <td>...</td>\n    </tr>\n    <tr>\n      <th>605</th>\n      <td>Non-PSRC FHWA</td>\n      <td>Pierce Transit</td>\n      <td>2020</td>\n      <td>0.0</td>\n    </tr>\n    <tr>\n      <th>606</th>\n      <td>PSRC FTA</td>\n      <td>Pierce Transit</td>\n      <td>2020</td>\n      <td>8351312.0</td>\n    </tr>\n    <tr>\n      <th>607</th>\n      <td>Non-PSRC FTA</td>\n      <td>Pierce Transit</td>\n      <td>2020</td>\n      <td>0.0</td>\n    </tr>\n    <tr>\n      <th>608</th>\n      <td>State</td>\n      <td>Pierce Transit</td>\n      <td>2020</td>\n      <td>0.0</td>\n    </tr>\n    <tr>\n      <th>609</th>\n      <td>Other Federal</td>\n      <td>Pierce Transit</td>\n      <td>2020</td>\n      <td>0.0</td>\n    </tr>\n  </tbody>\n</table>\n<p>610 rows × 4 columns</p>\n</div>"
     },
     "execution_count": 42,
     "metadata": {},
     "output_type": "execute_result"
    }
   ],
   "source": [
    "transit_revenue = pd.read_csv(data_config['data_revenue_local_transit'])\n",
    "transit_revenue"
   ],
   "metadata": {
    "collapsed": false
   }
  },
  {
   "cell_type": "markdown",
   "source": [
    "## Local Transit Revenue: PSRC FHWA, PSRC FTA, Non-PSRC FTA, State, Other Federal"
   ],
   "metadata": {
    "collapsed": false
   }
  },
  {
   "cell_type": "code",
   "execution_count": 43,
   "outputs": [
    {
     "data": {
      "text/plain": "     Year   Revenue Type     Transit Agency   Nominal\n0    2016      PSRC FHWA  Community Transit  608182.0\n1    2017      PSRC FHWA  Community Transit  611209.0\n2    2018      PSRC FHWA  Community Transit  619709.0\n3    2019      PSRC FHWA  Community Transit  694099.0\n4    2020      PSRC FHWA  Community Transit  713708.0\n..    ...            ...                ...       ...\n870  2046  Other Federal     Pierce Transit       0.0\n871  2047  Other Federal     Pierce Transit       0.0\n872  2048  Other Federal     Pierce Transit       0.0\n873  2049  Other Federal     Pierce Transit       0.0\n874  2050  Other Federal     Pierce Transit       0.0\n\n[875 rows x 4 columns]",
      "text/html": "<div>\n<style scoped>\n    .dataframe tbody tr th:only-of-type {\n        vertical-align: middle;\n    }\n\n    .dataframe tbody tr th {\n        vertical-align: top;\n    }\n\n    .dataframe thead th {\n        text-align: right;\n    }\n</style>\n<table border=\"1\" class=\"dataframe\">\n  <thead>\n    <tr style=\"text-align: right;\">\n      <th></th>\n      <th>Year</th>\n      <th>Revenue Type</th>\n      <th>Transit Agency</th>\n      <th>Nominal</th>\n    </tr>\n  </thead>\n  <tbody>\n    <tr>\n      <th>0</th>\n      <td>2016</td>\n      <td>PSRC FHWA</td>\n      <td>Community Transit</td>\n      <td>608182.0</td>\n    </tr>\n    <tr>\n      <th>1</th>\n      <td>2017</td>\n      <td>PSRC FHWA</td>\n      <td>Community Transit</td>\n      <td>611209.0</td>\n    </tr>\n    <tr>\n      <th>2</th>\n      <td>2018</td>\n      <td>PSRC FHWA</td>\n      <td>Community Transit</td>\n      <td>619709.0</td>\n    </tr>\n    <tr>\n      <th>3</th>\n      <td>2019</td>\n      <td>PSRC FHWA</td>\n      <td>Community Transit</td>\n      <td>694099.0</td>\n    </tr>\n    <tr>\n      <th>4</th>\n      <td>2020</td>\n      <td>PSRC FHWA</td>\n      <td>Community Transit</td>\n      <td>713708.0</td>\n    </tr>\n    <tr>\n      <th>...</th>\n      <td>...</td>\n      <td>...</td>\n      <td>...</td>\n      <td>...</td>\n    </tr>\n    <tr>\n      <th>870</th>\n      <td>2046</td>\n      <td>Other Federal</td>\n      <td>Pierce Transit</td>\n      <td>0.0</td>\n    </tr>\n    <tr>\n      <th>871</th>\n      <td>2047</td>\n      <td>Other Federal</td>\n      <td>Pierce Transit</td>\n      <td>0.0</td>\n    </tr>\n    <tr>\n      <th>872</th>\n      <td>2048</td>\n      <td>Other Federal</td>\n      <td>Pierce Transit</td>\n      <td>0.0</td>\n    </tr>\n    <tr>\n      <th>873</th>\n      <td>2049</td>\n      <td>Other Federal</td>\n      <td>Pierce Transit</td>\n      <td>0.0</td>\n    </tr>\n    <tr>\n      <th>874</th>\n      <td>2050</td>\n      <td>Other Federal</td>\n      <td>Pierce Transit</td>\n      <td>0.0</td>\n    </tr>\n  </tbody>\n</table>\n<p>875 rows × 4 columns</p>\n</div>"
     },
     "execution_count": 43,
     "metadata": {},
     "output_type": "execute_result"
    }
   ],
   "source": [
    "parameter = pd.read_csv(data_config['parameter']).astype({'Year':'int64'})\n",
    "\n",
    "predict_list_other = ['Non-PSRC FTA','State','Other Federal']\n",
    "\n",
    "process_list = ['PSRC FHWA', 'PSRC FTA']\n",
    "max_year = max(transit_revenue['Year'])\n",
    "\n",
    "result_transit_funding = pd.DataFrame()\n",
    "for agency in data_config['county_transit'].keys():\n",
    "    # forecasting ['PSRC FHWA', 'PSRC FTA'] fundings\n",
    "    for predict in process_list:\n",
    "        # first predicting year uses the average of the last five years with known revenue\n",
    "        df = transit_revenue[(transit_revenue['Transit Agency'] == agency) & (transit_revenue['Revenue Type'] == predict)].copy()\n",
    "        df = forecasting_tool.fill_year(df, ['Revenue Type', 'Transit Agency'],\n",
    "                                             min(df['Year']), data_config['end_year'])\n",
    "        df.loc[df['Year'] == max_year + 1, 'Nominal'] = df[df['Year'].isin(range(max_year-5, max_year+1))]['Nominal'].mean() * \\\n",
    "                data_config['psrc_transit_funding_annual_increase']\n",
    "        # other years: previous year funding * 1.025\n",
    "        for year in range(max_year + 2, data_config['end_year'] + 1):\n",
    "            funding_prev_year = df.loc[df['Year'] == year - 1, 'Nominal'].item()\n",
    "            df.loc[df['Year'] == year, 'Nominal'] = funding_prev_year * data_config['psrc_transit_funding_annual_increase']\n",
    "        result_transit_funding = pd.concat([result_transit_funding, df], ignore_index=True)\n",
    "\n",
    "    # forecasting ['Non-PSRC FTA','State','Other Federal'] fundings\n",
    "    for predict in predict_list_other:\n",
    "        # first predicting year uses the average of the last five years with known revenue\n",
    "        df = transit_revenue[(transit_revenue['Transit Agency'] == agency) & (transit_revenue['Revenue Type'] == predict)].copy()\n",
    "        df = forecasting_tool.fill_year(df, ['Revenue Type', 'Transit Agency'],\n",
    "                                             min(df['Year']), data_config['end_year'])\n",
    "        df.loc[df['Year'] == max_year + 1, 'Nominal'] = df[df['Year'].isin(range(max_year-5, max_year+1))]['Nominal'].mean() * \\\n",
    "                parameter.loc[parameter['Year']==max_year + 1,'indecies'].item()\n",
    "        # other years: previous year funding * 1.025\n",
    "        for year in range(max_year + 2, data_config['end_year'] + 1):\n",
    "            funding_prev_year = df.loc[df['Year'] == year - 1, 'Nominal'].item()\n",
    "            df.loc[df['Year'] == year, 'Nominal'] = funding_prev_year * parameter.loc[parameter['Year']==year,'indecies'].item()\n",
    "        result_transit_funding = pd.concat([result_transit_funding, df], ignore_index=True)\n",
    "\n",
    "result_transit_funding\n",
    "\n",
    "# df_wide=pd.pivot(result_transit_funding, index=['Year','Transit Agency'], columns = 'Revenue Type',values = 'Nominal') #Reshape from long to wide\n",
    "# df_wide"
   ],
   "metadata": {
    "collapsed": false
   }
  },
  {
   "cell_type": "code",
   "execution_count": 47,
   "outputs": [
    {
     "data": {
      "text/plain": "     Year     Revenue Type     Transit Agency       Nominal\n0    1989  Sales & Use Tax  Community Transit  8.088000e+06\n1    1990  Sales & Use Tax  Community Transit  1.506800e+07\n2    1991  Sales & Use Tax  Community Transit  1.834100e+07\n3    1992  Sales & Use Tax  Community Transit  1.996400e+07\n4    1993  Sales & Use Tax  Community Transit  2.106300e+07\n..    ...              ...                ...           ...\n305  2046  Sales & Use Tax     Pierce Transit  1.883062e+08\n306  2047  Sales & Use Tax     Pierce Transit  1.948972e+08\n307  2048  Sales & Use Tax     Pierce Transit  2.015230e+08\n308  2049  Sales & Use Tax     Pierce Transit  2.080631e+08\n309  2050  Sales & Use Tax     Pierce Transit  2.148985e+08\n\n[310 rows x 4 columns]",
      "text/html": "<div>\n<style scoped>\n    .dataframe tbody tr th:only-of-type {\n        vertical-align: middle;\n    }\n\n    .dataframe tbody tr th {\n        vertical-align: top;\n    }\n\n    .dataframe thead th {\n        text-align: right;\n    }\n</style>\n<table border=\"1\" class=\"dataframe\">\n  <thead>\n    <tr style=\"text-align: right;\">\n      <th></th>\n      <th>Year</th>\n      <th>Revenue Type</th>\n      <th>Transit Agency</th>\n      <th>Nominal</th>\n    </tr>\n  </thead>\n  <tbody>\n    <tr>\n      <th>0</th>\n      <td>1989</td>\n      <td>Sales &amp; Use Tax</td>\n      <td>Community Transit</td>\n      <td>8.088000e+06</td>\n    </tr>\n    <tr>\n      <th>1</th>\n      <td>1990</td>\n      <td>Sales &amp; Use Tax</td>\n      <td>Community Transit</td>\n      <td>1.506800e+07</td>\n    </tr>\n    <tr>\n      <th>2</th>\n      <td>1991</td>\n      <td>Sales &amp; Use Tax</td>\n      <td>Community Transit</td>\n      <td>1.834100e+07</td>\n    </tr>\n    <tr>\n      <th>3</th>\n      <td>1992</td>\n      <td>Sales &amp; Use Tax</td>\n      <td>Community Transit</td>\n      <td>1.996400e+07</td>\n    </tr>\n    <tr>\n      <th>4</th>\n      <td>1993</td>\n      <td>Sales &amp; Use Tax</td>\n      <td>Community Transit</td>\n      <td>2.106300e+07</td>\n    </tr>\n    <tr>\n      <th>...</th>\n      <td>...</td>\n      <td>...</td>\n      <td>...</td>\n      <td>...</td>\n    </tr>\n    <tr>\n      <th>305</th>\n      <td>2046</td>\n      <td>Sales &amp; Use Tax</td>\n      <td>Pierce Transit</td>\n      <td>1.883062e+08</td>\n    </tr>\n    <tr>\n      <th>306</th>\n      <td>2047</td>\n      <td>Sales &amp; Use Tax</td>\n      <td>Pierce Transit</td>\n      <td>1.948972e+08</td>\n    </tr>\n    <tr>\n      <th>307</th>\n      <td>2048</td>\n      <td>Sales &amp; Use Tax</td>\n      <td>Pierce Transit</td>\n      <td>2.015230e+08</td>\n    </tr>\n    <tr>\n      <th>308</th>\n      <td>2049</td>\n      <td>Sales &amp; Use Tax</td>\n      <td>Pierce Transit</td>\n      <td>2.080631e+08</td>\n    </tr>\n    <tr>\n      <th>309</th>\n      <td>2050</td>\n      <td>Sales &amp; Use Tax</td>\n      <td>Pierce Transit</td>\n      <td>2.148985e+08</td>\n    </tr>\n  </tbody>\n</table>\n<p>310 rows × 4 columns</p>\n</div>"
     },
     "execution_count": 47,
     "metadata": {},
     "output_type": "execute_result"
    }
   ],
   "source": [
    "transit_sales_tax_rate = pd.read_csv(data_config['data_transit_sales_tax_rate']).astype({'Year':'int64'})\n",
    "\n",
    "retail_sales = pd.read_csv(data_config['data_tax_base'])\n",
    "retail_sales = retail_sales[retail_sales['Tax Base Category'] == 'Retail Sales (nominal)']\n",
    "\n",
    "transit_revenue = pd.read_csv(data_config['data_revenue_local_transit'])\n",
    "\n",
    "result_transit_sales_tax = pd.DataFrame()\n",
    "for agency in data_config['county_transit'].keys():\n",
    "    transit_sales_tax = transit_revenue[(transit_revenue['Transit Agency'] == agency) & (transit_revenue['Revenue Type'] == 'Sales & Use Tax')].copy()\n",
    "\n",
    "    max_year = max(transit_sales_tax['Year'])\n",
    "    test = min(transit_sales_tax['Year'])\n",
    "\n",
    "    transit_sales_tax = forecasting_tool.fill_year(transit_sales_tax, ['Revenue Type', 'Transit Agency'],\n",
    "                                         min(transit_sales_tax['Year']), data_config['end_year'])\n",
    "\n",
    "\n",
    "    sales = pd.merge(retail_sales[retail_sales['County']==data_config['county_transit'][agency]],\n",
    "                     transit_sales_tax_rate[['Year', agency]],\n",
    "                     on=['Year'])\n",
    "    sales['Sales & Use Tax'] = sales[agency] * sales['Value'] * data_config['transit_boundary_cal'][agency]\n",
    "\n",
    "    transit_sales_tax = pd.merge(transit_sales_tax,sales[['Year','Sales & Use Tax']],\n",
    "                                 how='left', on=['Year'])\n",
    "    transit_sales_tax.loc[np.isnan(transit_sales_tax['Nominal']),'Nominal'] = transit_sales_tax['Sales & Use Tax']\n",
    "    transit_sales_tax = transit_sales_tax[['Year','Revenue Type', 'Transit Agency', 'Nominal']]\n",
    "    result_transit_sales_tax = pd.concat([result_transit_sales_tax, transit_sales_tax], ignore_index=True)\n",
    "\n",
    "result_transit_sales_tax"
   ],
   "metadata": {
    "collapsed": false
   }
  },
  {
   "cell_type": "code",
   "execution_count": null,
   "outputs": [],
   "source": [
    "transit_revenue = pd.read_csv(data_config['data_revenue_local_transit'])\n",
    "\n",
    "# calculate constant revenue with PV factor\n",
    "transit_revenue = pd.merge(transit_revenue, parameter[['Year', 'PV factor']], how=\"left\" , on=\"Year\")\n",
    "transit_revenue[\"Constant\"] = transit_revenue['Nominal'] * transit_revenue['PV factor']\n",
    "transit_revenue"
   ],
   "metadata": {
    "collapsed": false
   }
  },
  {
   "cell_type": "markdown",
   "source": [
    "### Annual Tax Base [Scenario: Base Model - Updated February, 2019]\n",
    "- Year: 1975 - 2050\n"
   ],
   "metadata": {
    "collapsed": false
   }
  },
  {
   "cell_type": "code",
   "execution_count": 17,
   "outputs": [
    {
     "data": {
      "text/plain": "                        County                Tax Base Category  Year  \\\n0     4-County regional Totals  Personal Income (nominal $mil)   1975   \n1     4-County regional Totals               Population (000s)   1975   \n2     4-County regional Totals               Employment (000s)   1975   \n3     4-County regional Totals     Retail Sales (nominal $mil)   1975   \n4     4-County regional Totals          Motor Fuel (gal. Mil.)   1975   \n...                        ...                              ...   ...   \n1819             Pierce County       Cars and Gas Trucks (000s)  2050   \n1820          Snohomish County               Population (000s)   2050   \n1821          Snohomish County               Employment (000s)   2050   \n1822          Snohomish County     Retail Sales (nominal $mil)   2050   \n1823          Snohomish County       Cars and Gas Trucks (000s)  2050   \n\n            Values  Multiplier    True Value  \n0     13338.578310   1000000.0  1.333858e+10  \n1      1963.090000      1000.0  1.963090e+06  \n2       719.238335      1000.0  7.192383e+05  \n3      7428.915395   1000000.0  7.428915e+09  \n4       941.502657   1000000.0  9.415027e+08  \n...            ...         ...           ...  \n1819   1160.648093      1000.0  1.160648e+06  \n1820   1215.036446      1000.0  1.215036e+06  \n1821    505.563009      1000.0  5.055630e+05  \n1822  37953.962990   1000000.0  3.795396e+10  \n1823   1212.191083      1000.0  1.212191e+06  \n\n[1820 rows x 6 columns]",
      "text/html": "<div>\n<style scoped>\n    .dataframe tbody tr th:only-of-type {\n        vertical-align: middle;\n    }\n\n    .dataframe tbody tr th {\n        vertical-align: top;\n    }\n\n    .dataframe thead th {\n        text-align: right;\n    }\n</style>\n<table border=\"1\" class=\"dataframe\">\n  <thead>\n    <tr style=\"text-align: right;\">\n      <th></th>\n      <th>County</th>\n      <th>Tax Base Category</th>\n      <th>Year</th>\n      <th>Values</th>\n      <th>Multiplier</th>\n      <th>True Value</th>\n    </tr>\n  </thead>\n  <tbody>\n    <tr>\n      <th>0</th>\n      <td>4-County regional Totals</td>\n      <td>Personal Income (nominal $mil)</td>\n      <td>1975</td>\n      <td>13338.578310</td>\n      <td>1000000.0</td>\n      <td>1.333858e+10</td>\n    </tr>\n    <tr>\n      <th>1</th>\n      <td>4-County regional Totals</td>\n      <td>Population (000s)</td>\n      <td>1975</td>\n      <td>1963.090000</td>\n      <td>1000.0</td>\n      <td>1.963090e+06</td>\n    </tr>\n    <tr>\n      <th>2</th>\n      <td>4-County regional Totals</td>\n      <td>Employment (000s)</td>\n      <td>1975</td>\n      <td>719.238335</td>\n      <td>1000.0</td>\n      <td>7.192383e+05</td>\n    </tr>\n    <tr>\n      <th>3</th>\n      <td>4-County regional Totals</td>\n      <td>Retail Sales (nominal $mil)</td>\n      <td>1975</td>\n      <td>7428.915395</td>\n      <td>1000000.0</td>\n      <td>7.428915e+09</td>\n    </tr>\n    <tr>\n      <th>4</th>\n      <td>4-County regional Totals</td>\n      <td>Motor Fuel (gal. Mil.)</td>\n      <td>1975</td>\n      <td>941.502657</td>\n      <td>1000000.0</td>\n      <td>9.415027e+08</td>\n    </tr>\n    <tr>\n      <th>...</th>\n      <td>...</td>\n      <td>...</td>\n      <td>...</td>\n      <td>...</td>\n      <td>...</td>\n      <td>...</td>\n    </tr>\n    <tr>\n      <th>1819</th>\n      <td>Pierce County</td>\n      <td>Cars and Gas Trucks (000s)</td>\n      <td>2050</td>\n      <td>1160.648093</td>\n      <td>1000.0</td>\n      <td>1.160648e+06</td>\n    </tr>\n    <tr>\n      <th>1820</th>\n      <td>Snohomish County</td>\n      <td>Population (000s)</td>\n      <td>2050</td>\n      <td>1215.036446</td>\n      <td>1000.0</td>\n      <td>1.215036e+06</td>\n    </tr>\n    <tr>\n      <th>1821</th>\n      <td>Snohomish County</td>\n      <td>Employment (000s)</td>\n      <td>2050</td>\n      <td>505.563009</td>\n      <td>1000.0</td>\n      <td>5.055630e+05</td>\n    </tr>\n    <tr>\n      <th>1822</th>\n      <td>Snohomish County</td>\n      <td>Retail Sales (nominal $mil)</td>\n      <td>2050</td>\n      <td>37953.962990</td>\n      <td>1000000.0</td>\n      <td>3.795396e+10</td>\n    </tr>\n    <tr>\n      <th>1823</th>\n      <td>Snohomish County</td>\n      <td>Cars and Gas Trucks (000s)</td>\n      <td>2050</td>\n      <td>1212.191083</td>\n      <td>1000.0</td>\n      <td>1.212191e+06</td>\n    </tr>\n  </tbody>\n</table>\n<p>1820 rows × 6 columns</p>\n</div>"
     },
     "execution_count": 17,
     "metadata": {},
     "output_type": "execute_result"
    }
   ],
   "source": [
    "df = pd.read_csv(\"Excel_data/tax_base_actual.csv\")\n",
    "df\n",
    "\n",
    "tax_base = pd.melt(df, id_vars=['County', 'Tax Base Category'], value_vars=df.columns[2:], var_name='Year',\n",
    "                   value_name='Values').dropna()\n",
    "# transit_boardings['Boardings'] = transit_boardings['Boardings (000s)'].apply(lambda x: x.strip().replace(',', '')).astype({'Boardings (000s)':float})*1e3\n",
    "tax_base[\"Multiplier\"] = 1e6\n",
    "tax_base.loc[tax_base[\"Tax Base Category\"].str.contains(\"000s\"), \"Multiplier\"] = 1e3\n",
    "tax_base.loc[tax_base[\"Tax Base Category\"].str.contains(\"Diesel\"), \"Multiplier\"] = 1\n",
    "tax_base[\"True Value\"] = tax_base[\"Multiplier\"] * tax_base[\"Values\"]\n",
    "tax_base"
   ],
   "metadata": {
    "collapsed": false
   }
  }
 ],
 "metadata": {
  "kernelspec": {
   "display_name": "Python 3",
   "language": "python",
   "name": "python3"
  },
  "language_info": {
   "codemirror_mode": {
    "name": "ipython",
    "version": 2
   },
   "file_extension": ".py",
   "mimetype": "text/x-python",
   "name": "python",
   "nbconvert_exporter": "python",
   "pygments_lexer": "ipython2",
   "version": "2.7.6"
  }
 },
 "nbformat": 4,
 "nbformat_minor": 0
}
