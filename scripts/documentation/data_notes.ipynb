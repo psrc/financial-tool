{
 "cells": [
  {
   "cell_type": "raw",
   "metadata": {},
   "source": [
    "---\n",
    "title: data input\n",
    "date: today\n",
    "\n",
    "engine: jupyter\n",
    "execute:\n",
    "  enabled: true\n",
    "---"
   ]
  },
  {
   "cell_type": "markdown",
   "metadata": {},
   "source": [
    "## local transit\n",
    "\n",
    "\n",
    "## city streets revenue"
   ]
  },
  {
   "cell_type": "code",
   "execution_count": 1,
   "metadata": {},
   "outputs": [],
   "source": [
    "import pandas as pd\n",
    "revenue_data = pd.read_csv(\"data_notes.csv\")\n",
    "pd.options.display.max_colwidth = 100\n",
    "\n",
    "city_streets_table = revenue_data.loc[revenue_data['revenue tab']==\"City Streets Revenue\",['revenue category','revenue type','forecast']].\\\n",
    "    set_index(['revenue category','revenue type']).\\\n",
    "        fillna(\"\")\n",
    "\n",
    "city_streets_source = revenue_data.loc[revenue_data['revenue tab']==\"City Streets Revenue\",]['source'].dropna().unique()"
   ]
  },
  {
   "cell_type": "markdown",
   "metadata": {},
   "source": [
    "- data source:"
   ]
  },
  {
   "cell_type": "code",
   "execution_count": 2,
   "metadata": {},
   "outputs": [
    {
     "name": "stdout",
     "output_type": "stream",
     "text": [
      "['WA Budgeting, Accounting and Reporting System (BARS)']\n"
     ]
    }
   ],
   "source": [
    "print(city_streets_source)"
   ]
  },
  {
   "cell_type": "code",
   "execution_count": 3,
   "metadata": {
    "user_expressions": [
     {
      "expression": "test_print(city_streets_data)",
      "result": {
       "data": {
        "text/plain": "None"
       },
       "metadata": {},
       "status": "ok"
      }
     },
     {
      "expression": "city_streets_table",
      "result": {
       "data": {
        "text/html": "<div>\n<style scoped>\n    .dataframe tbody tr th:only-of-type {\n        vertical-align: middle;\n    }\n\n    .dataframe tbody tr th {\n        vertical-align: top;\n    }\n\n    .dataframe thead th {\n        text-align: right;\n    }\n</style>\n<table border=\"1\" class=\"dataframe\">\n  <thead>\n    <tr style=\"text-align: right;\">\n      <th></th>\n      <th></th>\n      <th>forecast</th>\n    </tr>\n    <tr>\n      <th>revenue category</th>\n      <th>revenue type</th>\n      <th></th>\n    </tr>\n  </thead>\n  <tbody>\n    <tr>\n      <th rowspan=\"9\" valign=\"top\">LOCAL TAXES &amp; FEES</th>\n      <th>Vehicle License Fee</th>\n      <td></td>\n    </tr>\n    <tr>\n      <th>Mitigation and Impact Fees</th>\n      <td></td>\n    </tr>\n    <tr>\n      <th>Commercial Parking Tax</th>\n      <td>year Y revenue= (Y city population/Y-1 city population) ×  Y-1 revenue</td>\n    </tr>\n    <tr>\n      <th>Street Utility</th>\n      <td></td>\n    </tr>\n    <tr>\n      <th>Local/Road Improvement Districts (LIDs/RIDs)</th>\n      <td>year Y revenue= (Y city population/Y-1 city population) ×  Y-1 revenue</td>\n    </tr>\n    <tr>\n      <th>Real Estate Excise Tax</th>\n      <td>year Y revenue= Y-1 revenue × Inflation</td>\n    </tr>\n    <tr>\n      <th>General Fund Revenues</th>\n      <td>Revenue = Inflation × Average actual revenues for prior 10 years</td>\n    </tr>\n    <tr>\n      <th>Other Local</th>\n      <td>Revenue = (Combine growth in city population and inflation) × (Average actual revenues for prior...</td>\n    </tr>\n    <tr>\n      <th>General Obligation Bonds</th>\n      <td></td>\n    </tr>\n    <tr>\n      <th rowspan=\"3\" valign=\"top\">STATE TAX DISTRIBUTIONS</th>\n      <th>City Gas Tax Distribution</th>\n      <td>year Y revenue= (Y fuel forecasts/Y-1 fuel forecasts) × Y-1 revenue</td>\n    </tr>\n    <tr>\n      <th>Transportation Improvement Board</th>\n      <td>year Y revenue= (Y fuel forecasts/Y-1 fuel forecasts) × Y-1 revenue</td>\n    </tr>\n    <tr>\n      <th>Other State Funds</th>\n      <td>year Y Revenues = Combine growth in city population and inflation, Y vs. Y-1 × Y-1 revenue</td>\n    </tr>\n    <tr>\n      <th rowspan=\"4\" valign=\"top\">FEDERAL TAX DISTRIBUTIONS</th>\n      <th>Other Federal Funds</th>\n      <td>year Y revenue = Estimated Y-1 revenue × 1.025</td>\n    </tr>\n    <tr>\n      <th>Other Federal Funds (FHWA)</th>\n      <td></td>\n    </tr>\n    <tr>\n      <th>PSRC Federal Funds</th>\n      <td></td>\n    </tr>\n    <tr>\n      <th>FTA (PSRC) - City of Seattle</th>\n      <td></td>\n    </tr>\n  </tbody>\n</table>\n</div>",
        "text/plain": "                                                                                                                                                                   forecast\nrevenue category          revenue type                                                                                                                                     \nLOCAL TAXES & FEES        Vehicle License Fee                                                                                                                              \n                          Mitigation and Impact Fees                                                                                                                       \n                          Commercial Parking Tax                                                     year Y revenue= (Y city population/Y-1 city population) ×  Y-1 revenue\n                          Street Utility                                                                                                                                   \n                          Local/Road Improvement Districts (LIDs/RIDs)                               year Y revenue= (Y city population/Y-1 city population) ×  Y-1 revenue\n                          Real Estate Excise Tax                                                                                    year Y revenue= Y-1 revenue × Inflation\n                          General Fund Revenues                                                            Revenue = Inflation × Average actual revenues for prior 10 years\n                          Other Local                                   Revenue = (Combine growth in city population and inflation) × (Average actual revenues for prior...\n                          General Obligation Bonds                                                                                                                         \nSTATE TAX DISTRIBUTIONS   City Gas Tax Distribution                                                     year Y revenue= (Y fuel forecasts/Y-1 fuel forecasts) × Y-1 revenue\n                          Transportation Improvement Board                                              year Y revenue= (Y fuel forecasts/Y-1 fuel forecasts) × Y-1 revenue\n                          Other State Funds                                      year Y Revenues = Combine growth in city population and inflation, Y vs. Y-1 × Y-1 revenue\nFEDERAL TAX DISTRIBUTIONS Other Federal Funds                                                                                year Y revenue = Estimated Y-1 revenue × 1.025\n                          Other Federal Funds (FHWA)                                                                                                                       \n                          PSRC Federal Funds                                                                                                                               \n                          FTA (PSRC) - City of Seattle                                                                                                                     "
       },
       "metadata": {},
       "status": "ok"
      }
     }
    ]
   },
   "outputs": [
    {
     "data": {
      "text/html": [
       "<div>\n",
       "<style scoped>\n",
       "    .dataframe tbody tr th:only-of-type {\n",
       "        vertical-align: middle;\n",
       "    }\n",
       "\n",
       "    .dataframe tbody tr th {\n",
       "        vertical-align: top;\n",
       "    }\n",
       "\n",
       "    .dataframe thead th {\n",
       "        text-align: right;\n",
       "    }\n",
       "</style>\n",
       "<table border=\"1\" class=\"dataframe\">\n",
       "  <thead>\n",
       "    <tr style=\"text-align: right;\">\n",
       "      <th></th>\n",
       "      <th></th>\n",
       "      <th>forecast</th>\n",
       "    </tr>\n",
       "    <tr>\n",
       "      <th>revenue category</th>\n",
       "      <th>revenue type</th>\n",
       "      <th></th>\n",
       "    </tr>\n",
       "  </thead>\n",
       "  <tbody>\n",
       "    <tr>\n",
       "      <th rowspan=\"9\" valign=\"top\">LOCAL TAXES &amp; FEES</th>\n",
       "      <th>Vehicle License Fee</th>\n",
       "      <td></td>\n",
       "    </tr>\n",
       "    <tr>\n",
       "      <th>Mitigation and Impact Fees</th>\n",
       "      <td></td>\n",
       "    </tr>\n",
       "    <tr>\n",
       "      <th>Commercial Parking Tax</th>\n",
       "      <td>year Y revenue= (Y city population/Y-1 city population) ×  Y-1 revenue</td>\n",
       "    </tr>\n",
       "    <tr>\n",
       "      <th>Street Utility</th>\n",
       "      <td></td>\n",
       "    </tr>\n",
       "    <tr>\n",
       "      <th>Local/Road Improvement Districts (LIDs/RIDs)</th>\n",
       "      <td>year Y revenue= (Y city population/Y-1 city population) ×  Y-1 revenue</td>\n",
       "    </tr>\n",
       "    <tr>\n",
       "      <th>Real Estate Excise Tax</th>\n",
       "      <td>year Y revenue= Y-1 revenue × Inflation</td>\n",
       "    </tr>\n",
       "    <tr>\n",
       "      <th>General Fund Revenues</th>\n",
       "      <td>Revenue = Inflation × Average actual revenues for prior 10 years</td>\n",
       "    </tr>\n",
       "    <tr>\n",
       "      <th>Other Local</th>\n",
       "      <td>Revenue = (Combine growth in city population and inflation) × (Average actual revenues for prior...</td>\n",
       "    </tr>\n",
       "    <tr>\n",
       "      <th>General Obligation Bonds</th>\n",
       "      <td></td>\n",
       "    </tr>\n",
       "    <tr>\n",
       "      <th rowspan=\"3\" valign=\"top\">STATE TAX DISTRIBUTIONS</th>\n",
       "      <th>City Gas Tax Distribution</th>\n",
       "      <td>year Y revenue= (Y fuel forecasts/Y-1 fuel forecasts) × Y-1 revenue</td>\n",
       "    </tr>\n",
       "    <tr>\n",
       "      <th>Transportation Improvement Board</th>\n",
       "      <td>year Y revenue= (Y fuel forecasts/Y-1 fuel forecasts) × Y-1 revenue</td>\n",
       "    </tr>\n",
       "    <tr>\n",
       "      <th>Other State Funds</th>\n",
       "      <td>year Y Revenues = Combine growth in city population and inflation, Y vs. Y-1 × Y-1 revenue</td>\n",
       "    </tr>\n",
       "    <tr>\n",
       "      <th rowspan=\"4\" valign=\"top\">FEDERAL TAX DISTRIBUTIONS</th>\n",
       "      <th>Other Federal Funds</th>\n",
       "      <td>year Y revenue = Estimated Y-1 revenue × 1.025</td>\n",
       "    </tr>\n",
       "    <tr>\n",
       "      <th>Other Federal Funds (FHWA)</th>\n",
       "      <td></td>\n",
       "    </tr>\n",
       "    <tr>\n",
       "      <th>PSRC Federal Funds</th>\n",
       "      <td></td>\n",
       "    </tr>\n",
       "    <tr>\n",
       "      <th>FTA (PSRC) - City of Seattle</th>\n",
       "      <td></td>\n",
       "    </tr>\n",
       "  </tbody>\n",
       "</table>\n",
       "</div>"
      ],
      "text/plain": [
       "                                                                                                                                                                   forecast\n",
       "revenue category          revenue type                                                                                                                                     \n",
       "LOCAL TAXES & FEES        Vehicle License Fee                                                                                                                              \n",
       "                          Mitigation and Impact Fees                                                                                                                       \n",
       "                          Commercial Parking Tax                                                     year Y revenue= (Y city population/Y-1 city population) ×  Y-1 revenue\n",
       "                          Street Utility                                                                                                                                   \n",
       "                          Local/Road Improvement Districts (LIDs/RIDs)                               year Y revenue= (Y city population/Y-1 city population) ×  Y-1 revenue\n",
       "                          Real Estate Excise Tax                                                                                    year Y revenue= Y-1 revenue × Inflation\n",
       "                          General Fund Revenues                                                            Revenue = Inflation × Average actual revenues for prior 10 years\n",
       "                          Other Local                                   Revenue = (Combine growth in city population and inflation) × (Average actual revenues for prior...\n",
       "                          General Obligation Bonds                                                                                                                         \n",
       "STATE TAX DISTRIBUTIONS   City Gas Tax Distribution                                                     year Y revenue= (Y fuel forecasts/Y-1 fuel forecasts) × Y-1 revenue\n",
       "                          Transportation Improvement Board                                              year Y revenue= (Y fuel forecasts/Y-1 fuel forecasts) × Y-1 revenue\n",
       "                          Other State Funds                                      year Y Revenues = Combine growth in city population and inflation, Y vs. Y-1 × Y-1 revenue\n",
       "FEDERAL TAX DISTRIBUTIONS Other Federal Funds                                                                                year Y revenue = Estimated Y-1 revenue × 1.025\n",
       "                          Other Federal Funds (FHWA)                                                                                                                       \n",
       "                          PSRC Federal Funds                                                                                                                               \n",
       "                          FTA (PSRC) - City of Seattle                                                                                                                     "
      ]
     },
     "execution_count": 3,
     "metadata": {},
     "output_type": "execute_result"
    }
   ],
   "source": [
    "city_streets_table"
   ]
  },
  {
   "cell_type": "markdown",
   "metadata": {},
   "source": [
    "## county roads revenue"
   ]
  },
  {
   "cell_type": "markdown",
   "metadata": {},
   "source": [
    "- data source:"
   ]
  },
  {
   "cell_type": "code",
   "execution_count": 4,
   "metadata": {},
   "outputs": [],
   "source": [
    "county_roads_table = revenue_data.loc[revenue_data['revenue tab']==\"County Roads Revenue\",['revenue category','revenue type','forecast']].\\\n",
    "    set_index(['revenue category','revenue type']).\\\n",
    "        fillna(\"\")\n",
    "\n",
    "city_streets_source = revenue_data.loc[revenue_data['revenue tab']==\"County Roads Revenue\",]['source'].dropna().unique()"
   ]
  },
  {
   "cell_type": "code",
   "execution_count": 5,
   "metadata": {},
   "outputs": [
    {
     "name": "stdout",
     "output_type": "stream",
     "text": [
      "['WA Budgeting, Accounting and Reporting System (BARS)']\n"
     ]
    }
   ],
   "source": [
    "print(city_streets_source)"
   ]
  },
  {
   "cell_type": "code",
   "execution_count": 6,
   "metadata": {},
   "outputs": [
    {
     "data": {
      "text/html": [
       "<div>\n",
       "<style scoped>\n",
       "    .dataframe tbody tr th:only-of-type {\n",
       "        vertical-align: middle;\n",
       "    }\n",
       "\n",
       "    .dataframe tbody tr th {\n",
       "        vertical-align: top;\n",
       "    }\n",
       "\n",
       "    .dataframe thead th {\n",
       "        text-align: right;\n",
       "    }\n",
       "</style>\n",
       "<table border=\"1\" class=\"dataframe\">\n",
       "  <thead>\n",
       "    <tr style=\"text-align: right;\">\n",
       "      <th></th>\n",
       "      <th></th>\n",
       "      <th>forecast</th>\n",
       "    </tr>\n",
       "    <tr>\n",
       "      <th>revenue category</th>\n",
       "      <th>revenue type</th>\n",
       "      <th></th>\n",
       "    </tr>\n",
       "  </thead>\n",
       "  <tbody>\n",
       "    <tr>\n",
       "      <th rowspan=\"8\" valign=\"top\">LOCAL TAXES &amp; FEES</th>\n",
       "      <th>County Road Levy</th>\n",
       "      <td>revenue = Prior year revenue × 1.01</td>\n",
       "    </tr>\n",
       "    <tr>\n",
       "      <th>Vehicle License Fee</th>\n",
       "      <td></td>\n",
       "    </tr>\n",
       "    <tr>\n",
       "      <th>Mitigation and Impact Fees</th>\n",
       "      <td></td>\n",
       "    </tr>\n",
       "    <tr>\n",
       "      <th>Local/Road Improvement Districts (LIDs/RIDs)</th>\n",
       "      <td></td>\n",
       "    </tr>\n",
       "    <tr>\n",
       "      <th>Real Estate Excise Tax</th>\n",
       "      <td>A = County Population × Regional Per Capita Personal Income for current year\\nB = County Populat...</td>\n",
       "    </tr>\n",
       "    <tr>\n",
       "      <th>General Fund Revenues</th>\n",
       "      <td>Calculate growth in county population (current year vs. previous year)\\nCalculate inflation usin...</td>\n",
       "    </tr>\n",
       "    <tr>\n",
       "      <th>Other Local</th>\n",
       "      <td>Calculate growth in county population (current year vs. previous year)\\nCalculate inflation usin...</td>\n",
       "    </tr>\n",
       "    <tr>\n",
       "      <th>General Obligation Bonds</th>\n",
       "      <td></td>\n",
       "    </tr>\n",
       "    <tr>\n",
       "      <th rowspan=\"3\" valign=\"top\">STATE TAX DISTRIBUTIONS</th>\n",
       "      <th>County Gas Tax Distribution</th>\n",
       "      <td>year Y revenue= (Y regional fuel forecasts/Y-1 regional fuel forecasts) × Y-1 revenue</td>\n",
       "    </tr>\n",
       "    <tr>\n",
       "      <th>Transportation Improvement Board</th>\n",
       "      <td>year Y revenue= (Y regional fuel forecasts/Y-1 regional fuel forecasts) × Y-1 revenue</td>\n",
       "    </tr>\n",
       "    <tr>\n",
       "      <th>Other State Funds</th>\n",
       "      <td>Calculate growth in county population (current year vs. previous year)\\nCalculate inflation usin...</td>\n",
       "    </tr>\n",
       "    <tr>\n",
       "      <th rowspan=\"3\" valign=\"top\">FEDERAL TAX DISTRIBUTIONS</th>\n",
       "      <th>Other Federal Grants</th>\n",
       "      <td>Estimate 2015 Revenue = (average 2006-2009, 2011-2014 revenue) × 1.025\\nPrior year estimate × 1.025</td>\n",
       "    </tr>\n",
       "    <tr>\n",
       "      <th>PSRC Federal Grants</th>\n",
       "      <td></td>\n",
       "    </tr>\n",
       "    <tr>\n",
       "      <th>Other Federal Funds (highways)</th>\n",
       "      <td>Estimate 2015 Revenue = (average 2006-2009, 2011-2014 revenue) × 1.025\\nPrior year estimate × 1.025</td>\n",
       "    </tr>\n",
       "  </tbody>\n",
       "</table>\n",
       "</div>"
      ],
      "text/plain": [
       "                                                                                                                                                                   forecast\n",
       "revenue category          revenue type                                                                                                                                     \n",
       "LOCAL TAXES & FEES        County Road Levy                                                                                              revenue = Prior year revenue × 1.01\n",
       "                          Vehicle License Fee                                                                                                                              \n",
       "                          Mitigation and Impact Fees                                                                                                                       \n",
       "                          Local/Road Improvement Districts (LIDs/RIDs)                                                                                                     \n",
       "                          Real Estate Excise Tax                        A = County Population × Regional Per Capita Personal Income for current year\\nB = County Populat...\n",
       "                          General Fund Revenues                         Calculate growth in county population (current year vs. previous year)\\nCalculate inflation usin...\n",
       "                          Other Local                                   Calculate growth in county population (current year vs. previous year)\\nCalculate inflation usin...\n",
       "                          General Obligation Bonds                                                                                                                         \n",
       "STATE TAX DISTRIBUTIONS   County Gas Tax Distribution                                 year Y revenue= (Y regional fuel forecasts/Y-1 regional fuel forecasts) × Y-1 revenue\n",
       "                          Transportation Improvement Board                            year Y revenue= (Y regional fuel forecasts/Y-1 regional fuel forecasts) × Y-1 revenue\n",
       "                          Other State Funds                             Calculate growth in county population (current year vs. previous year)\\nCalculate inflation usin...\n",
       "FEDERAL TAX DISTRIBUTIONS Other Federal Grants                          Estimate 2015 Revenue = (average 2006-2009, 2011-2014 revenue) × 1.025\\nPrior year estimate × 1.025\n",
       "                          PSRC Federal Grants                                                                                                                              \n",
       "                          Other Federal Funds (highways)                Estimate 2015 Revenue = (average 2006-2009, 2011-2014 revenue) × 1.025\\nPrior year estimate × 1.025"
      ]
     },
     "execution_count": 6,
     "metadata": {},
     "output_type": "execute_result"
    }
   ],
   "source": [
    "county_roads_table"
   ]
  }
 ],
 "metadata": {
  "kernelspec": {
   "display_name": "Financial_tool",
   "language": "python",
   "name": "python3"
  },
  "language_info": {
   "codemirror_mode": {
    "name": "ipython",
    "version": 3
   },
   "file_extension": ".py",
   "mimetype": "text/x-python",
   "name": "python",
   "nbconvert_exporter": "python",
   "pygments_lexer": "ipython3",
   "version": "3.9.16"
  }
 },
 "nbformat": 4,
 "nbformat_minor": 2
}
