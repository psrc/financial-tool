{
 "cells": [
  {
   "cell_type": "code",
   "execution_count": 1,
   "metadata": {
    "collapsed": true
   },
   "outputs": [],
   "source": [
    "import pandas as pd\n",
    "import numpy as np\n",
    "import math\n",
    "import toml\n",
    "import os\n",
    "import input_data_processing\n",
    "\n",
    "\n",
    "data_config = toml.load(os.path.join(os.getcwd(), \"config_raw_data.toml\"))\n"
   ]
  },
  {
   "cell_type": "markdown",
   "source": [
    "## Read from spreadsheet and create dataframe inputs\n"
   ],
   "metadata": {
    "collapsed": false
   }
  },
  {
   "cell_type": "markdown",
   "source": [
    "## PV Factor and CPI\n",
    "   - used to canculate constant local transit revenue"
   ],
   "metadata": {
    "collapsed": false
   }
  },
  {
   "cell_type": "code",
   "execution_count": 15,
   "outputs": [
    {
     "data": {
      "text/plain": "    Year  PV factor     CPI  indecies\n0   1975      5.312  0.5066       NaN\n1   1976      5.047  0.5332  1.052507\n2   1977      4.658  0.5778  1.083646\n3   1978      4.241  0.6345  1.098131\n4   1979      3.864  0.6965  1.097715\n..   ...        ...     ...       ...\n71  2046      0.605  4.4493  1.025941\n72  2047      0.590  4.5578  1.024386\n73  2048      0.578  4.6596  1.022335\n74  2049      0.565  4.7590  1.021332\n75  2050      0.554  4.8582  1.020845\n\n[76 rows x 4 columns]",
      "text/html": "<div>\n<style scoped>\n    .dataframe tbody tr th:only-of-type {\n        vertical-align: middle;\n    }\n\n    .dataframe tbody tr th {\n        vertical-align: top;\n    }\n\n    .dataframe thead th {\n        text-align: right;\n    }\n</style>\n<table border=\"1\" class=\"dataframe\">\n  <thead>\n    <tr style=\"text-align: right;\">\n      <th></th>\n      <th>Year</th>\n      <th>PV factor</th>\n      <th>CPI</th>\n      <th>indecies</th>\n    </tr>\n  </thead>\n  <tbody>\n    <tr>\n      <th>0</th>\n      <td>1975</td>\n      <td>5.312</td>\n      <td>0.5066</td>\n      <td>NaN</td>\n    </tr>\n    <tr>\n      <th>1</th>\n      <td>1976</td>\n      <td>5.047</td>\n      <td>0.5332</td>\n      <td>1.052507</td>\n    </tr>\n    <tr>\n      <th>2</th>\n      <td>1977</td>\n      <td>4.658</td>\n      <td>0.5778</td>\n      <td>1.083646</td>\n    </tr>\n    <tr>\n      <th>3</th>\n      <td>1978</td>\n      <td>4.241</td>\n      <td>0.6345</td>\n      <td>1.098131</td>\n    </tr>\n    <tr>\n      <th>4</th>\n      <td>1979</td>\n      <td>3.864</td>\n      <td>0.6965</td>\n      <td>1.097715</td>\n    </tr>\n    <tr>\n      <th>...</th>\n      <td>...</td>\n      <td>...</td>\n      <td>...</td>\n      <td>...</td>\n    </tr>\n    <tr>\n      <th>71</th>\n      <td>2046</td>\n      <td>0.605</td>\n      <td>4.4493</td>\n      <td>1.025941</td>\n    </tr>\n    <tr>\n      <th>72</th>\n      <td>2047</td>\n      <td>0.590</td>\n      <td>4.5578</td>\n      <td>1.024386</td>\n    </tr>\n    <tr>\n      <th>73</th>\n      <td>2048</td>\n      <td>0.578</td>\n      <td>4.6596</td>\n      <td>1.022335</td>\n    </tr>\n    <tr>\n      <th>74</th>\n      <td>2049</td>\n      <td>0.565</td>\n      <td>4.7590</td>\n      <td>1.021332</td>\n    </tr>\n    <tr>\n      <th>75</th>\n      <td>2050</td>\n      <td>0.554</td>\n      <td>4.8582</td>\n      <td>1.020845</td>\n    </tr>\n  </tbody>\n</table>\n<p>76 rows × 4 columns</p>\n</div>"
     },
     "execution_count": 15,
     "metadata": {},
     "output_type": "execute_result"
    }
   ],
   "source": [
    "parameter = pd.read_csv(data_config['parameter']).astype({'Year':'int64'})\n",
    "parameter"
   ],
   "metadata": {
    "collapsed": false
   }
  },
  {
   "cell_type": "markdown",
   "source": [
    "# Population\n",
    "  - create function to calculate all year"
   ],
   "metadata": {
    "collapsed": false
   }
  },
  {
   "cell_type": "code",
   "execution_count": 3,
   "outputs": [
    {
     "data": {
      "text/plain": "                County PopulationArea  Year  Population\n0          King County         Cities  2000   1387812.0\n1          King County         Cities  2001   1404829.0\n2          King County         Cities  2002   1427263.0\n3          King County         Cities  2003   1436622.0\n4          King County         Cities  2004   1443623.0\n...                ...            ...   ...         ...\n1015  Snohomish County   City Transit  2046    182008.0\n1016  Snohomish County   City Transit  2047    184374.0\n1017  Snohomish County   City Transit  2048    186772.0\n1018  Snohomish County   City Transit  2049    189200.0\n1019  Snohomish County   City Transit  2050    191660.0\n\n[1020 rows x 4 columns]",
      "text/html": "<div>\n<style scoped>\n    .dataframe tbody tr th:only-of-type {\n        vertical-align: middle;\n    }\n\n    .dataframe tbody tr th {\n        vertical-align: top;\n    }\n\n    .dataframe thead th {\n        text-align: right;\n    }\n</style>\n<table border=\"1\" class=\"dataframe\">\n  <thead>\n    <tr style=\"text-align: right;\">\n      <th></th>\n      <th>County</th>\n      <th>PopulationArea</th>\n      <th>Year</th>\n      <th>Population</th>\n    </tr>\n  </thead>\n  <tbody>\n    <tr>\n      <th>0</th>\n      <td>King County</td>\n      <td>Cities</td>\n      <td>2000</td>\n      <td>1387812.0</td>\n    </tr>\n    <tr>\n      <th>1</th>\n      <td>King County</td>\n      <td>Cities</td>\n      <td>2001</td>\n      <td>1404829.0</td>\n    </tr>\n    <tr>\n      <th>2</th>\n      <td>King County</td>\n      <td>Cities</td>\n      <td>2002</td>\n      <td>1427263.0</td>\n    </tr>\n    <tr>\n      <th>3</th>\n      <td>King County</td>\n      <td>Cities</td>\n      <td>2003</td>\n      <td>1436622.0</td>\n    </tr>\n    <tr>\n      <th>4</th>\n      <td>King County</td>\n      <td>Cities</td>\n      <td>2004</td>\n      <td>1443623.0</td>\n    </tr>\n    <tr>\n      <th>...</th>\n      <td>...</td>\n      <td>...</td>\n      <td>...</td>\n      <td>...</td>\n    </tr>\n    <tr>\n      <th>1015</th>\n      <td>Snohomish County</td>\n      <td>City Transit</td>\n      <td>2046</td>\n      <td>182008.0</td>\n    </tr>\n    <tr>\n      <th>1016</th>\n      <td>Snohomish County</td>\n      <td>City Transit</td>\n      <td>2047</td>\n      <td>184374.0</td>\n    </tr>\n    <tr>\n      <th>1017</th>\n      <td>Snohomish County</td>\n      <td>City Transit</td>\n      <td>2048</td>\n      <td>186772.0</td>\n    </tr>\n    <tr>\n      <th>1018</th>\n      <td>Snohomish County</td>\n      <td>City Transit</td>\n      <td>2049</td>\n      <td>189200.0</td>\n    </tr>\n    <tr>\n      <th>1019</th>\n      <td>Snohomish County</td>\n      <td>City Transit</td>\n      <td>2050</td>\n      <td>191660.0</td>\n    </tr>\n  </tbody>\n</table>\n<p>1020 rows × 4 columns</p>\n</div>"
     },
     "execution_count": 3,
     "metadata": {},
     "output_type": "execute_result"
    }
   ],
   "source": [
    "subarea_population = pd.read_csv(data_config['data_subarea_population'])\n",
    "\n",
    "result_subarea_population = pd.DataFrame()\n",
    "for i_county in data_config['all_counties']:\n",
    "    for i_pop_area in subarea_population.PopulationArea.unique():\n",
    "\n",
    "        df_pop = subarea_population[\n",
    "            (subarea_population['County'] == i_county) & (subarea_population['PopulationArea'] == i_pop_area)].copy()\n",
    "\n",
    "        if df_pop.empty:\n",
    "            pass\n",
    "\n",
    "        else:\n",
    "            start_year = int(df_pop['Year'].min())\n",
    "            end_year = int(df_pop['Year'].max())\n",
    "            # fill in missing years\n",
    "            df_pop = input_data_processing.fill_year(df_pop, ['County', 'PopulationArea'], start_year, end_year)\n",
    "            # calculate interpolated population\n",
    "            df_pop['Population'] = input_data_processing.interpolate_population(df_pop, 'Population', start_year, end_year)\n",
    "            df_pop = df_pop[['County', 'PopulationArea', 'Year', 'Population']]\n",
    "\n",
    "            result_subarea_population = pd.concat([result_subarea_population, df_pop], ignore_index=True)\n",
    "\n",
    "result_subarea_population"
   ],
   "metadata": {
    "collapsed": false
   }
  },
  {
   "cell_type": "markdown",
   "source": [
    "### Actual transit boardings (000s) from Local Transit Tab\n",
    "- Year 2018 and before"
   ],
   "metadata": {
    "collapsed": false
   }
  },
  {
   "cell_type": "code",
   "execution_count": 4,
   "outputs": [
    {
     "data": {
      "text/plain": "        Transit Agency  Year     Boardings\n0    Community Transit  1989  4.022714e+06\n1    Community Transit  1990  4.138693e+06\n2    Community Transit  1991  4.916127e+06\n3    Community Transit  1992  5.057887e+06\n4    Community Transit  1993  5.289549e+06\n..                 ...   ...           ...\n305     Pierce Transit  2046  1.390027e+07\n306     Pierce Transit  2047  1.403806e+07\n307     Pierce Transit  2048  1.417722e+07\n308     Pierce Transit  2049  1.431775e+07\n309     Pierce Transit  2050  1.445968e+07\n\n[310 rows x 3 columns]",
      "text/html": "<div>\n<style scoped>\n    .dataframe tbody tr th:only-of-type {\n        vertical-align: middle;\n    }\n\n    .dataframe tbody tr th {\n        vertical-align: top;\n    }\n\n    .dataframe thead th {\n        text-align: right;\n    }\n</style>\n<table border=\"1\" class=\"dataframe\">\n  <thead>\n    <tr style=\"text-align: right;\">\n      <th></th>\n      <th>Transit Agency</th>\n      <th>Year</th>\n      <th>Boardings</th>\n    </tr>\n  </thead>\n  <tbody>\n    <tr>\n      <th>0</th>\n      <td>Community Transit</td>\n      <td>1989</td>\n      <td>4.022714e+06</td>\n    </tr>\n    <tr>\n      <th>1</th>\n      <td>Community Transit</td>\n      <td>1990</td>\n      <td>4.138693e+06</td>\n    </tr>\n    <tr>\n      <th>2</th>\n      <td>Community Transit</td>\n      <td>1991</td>\n      <td>4.916127e+06</td>\n    </tr>\n    <tr>\n      <th>3</th>\n      <td>Community Transit</td>\n      <td>1992</td>\n      <td>5.057887e+06</td>\n    </tr>\n    <tr>\n      <th>4</th>\n      <td>Community Transit</td>\n      <td>1993</td>\n      <td>5.289549e+06</td>\n    </tr>\n    <tr>\n      <th>...</th>\n      <td>...</td>\n      <td>...</td>\n      <td>...</td>\n    </tr>\n    <tr>\n      <th>305</th>\n      <td>Pierce Transit</td>\n      <td>2046</td>\n      <td>1.390027e+07</td>\n    </tr>\n    <tr>\n      <th>306</th>\n      <td>Pierce Transit</td>\n      <td>2047</td>\n      <td>1.403806e+07</td>\n    </tr>\n    <tr>\n      <th>307</th>\n      <td>Pierce Transit</td>\n      <td>2048</td>\n      <td>1.417722e+07</td>\n    </tr>\n    <tr>\n      <th>308</th>\n      <td>Pierce Transit</td>\n      <td>2049</td>\n      <td>1.431775e+07</td>\n    </tr>\n    <tr>\n      <th>309</th>\n      <td>Pierce Transit</td>\n      <td>2050</td>\n      <td>1.445968e+07</td>\n    </tr>\n  </tbody>\n</table>\n<p>310 rows × 3 columns</p>\n</div>"
     },
     "execution_count": 4,
     "metadata": {},
     "output_type": "execute_result"
    }
   ],
   "source": [
    "# Local Transit - Total Fixed-Route boardings\n",
    "transit_boardings = pd.read_csv(data_config['data_boardings_local_transit'])\n",
    "\n",
    "result_boarding = pd.DataFrame()\n",
    "for agency in data_config['county_transit']:\n",
    "\n",
    "    df_agency = transit_boardings[(transit_boardings['Transit Agency'] == agency)].copy()\n",
    "\n",
    "    # fill in missing years\n",
    "    start_year = df_agency['Year'].min()\n",
    "\n",
    "    df_agency = input_data_processing.fill_year(df_agency, 'Transit Agency', start_year, data_config['end_year'])\n",
    "\n",
    "    # last and next year with population values\n",
    "    # Everett transit using City Transit Population for boarding estimation, others using PTBA\n",
    "    if agency == \"Everett Transit\":\n",
    "        df_agency1 = pd.merge(df_agency, result_subarea_population[\n",
    "            (result_subarea_population['County'] == data_config['county_transit'][agency]) &\n",
    "            (result_subarea_population['PopulationArea'] == 'City Transit')],\n",
    "                              how=\"left\", on=\"Year\")\n",
    "    else:\n",
    "        df_agency1 = pd.merge(df_agency, result_subarea_population[\n",
    "            (result_subarea_population['County'] == data_config['county_transit'][agency]) &\n",
    "            (result_subarea_population['PopulationArea'] == 'PTBA')],\n",
    "                              how=\"left\", on=\"Year\")\n",
    "\n",
    "    # calculation\n",
    "    for year in range(start_year, data_config['end_year'] + 1):\n",
    "        miss = df_agency1.loc[df_agency1['Year'] == year, 'Boardings'].item()\n",
    "\n",
    "        if np.isnan(miss):\n",
    "            boarding_prev_year = df_agency1.loc[df_agency1['Year'] == year - 1, 'Boardings'].item()\n",
    "            pop = df_agency1.loc[df_agency1['Year'] == year, 'Population'].item()\n",
    "            pop_prev_year = df_agency1.loc[df_agency1['Year'] == year - 1, 'Population'].item()\n",
    "\n",
    "            df_agency1.loc[df_agency1['Year'] == year, 'Boardings'] = boarding_prev_year * pop / pop_prev_year\n",
    "\n",
    "        else:\n",
    "            pass\n",
    "\n",
    "    result_boarding = pd.concat([result_boarding, df_agency1], ignore_index=True)\n",
    "\n",
    "result_boarding = result_boarding[['Transit Agency', 'Year', 'Boardings']]\n",
    "\n",
    "result_boarding"
   ],
   "metadata": {
    "collapsed": false
   }
  },
  {
   "cell_type": "markdown",
   "source": [
    "# Fare per Boarding\n"
   ],
   "metadata": {
    "collapsed": false
   }
  },
  {
   "cell_type": "code",
   "execution_count": 6,
   "outputs": [
    {
     "data": {
      "text/plain": "     Year     Transit Agency  Average Fare per Boarding ($)\n0    1989  Community Transit                       0.811890\n1    1990  Community Transit                       0.854134\n2    1991  Community Transit                       0.880978\n3    1992  Community Transit                       0.952374\n4    1993  Community Transit                       0.984394\n..    ...                ...                            ...\n305  2046     Pierce Transit                       2.934295\n306  2047     Pierce Transit                       2.934295\n307  2048     Pierce Transit                       3.489484\n308  2049     Pierce Transit                       3.489484\n309  2050     Pierce Transit                       3.489484\n\n[310 rows x 3 columns]",
      "text/html": "<div>\n<style scoped>\n    .dataframe tbody tr th:only-of-type {\n        vertical-align: middle;\n    }\n\n    .dataframe tbody tr th {\n        vertical-align: top;\n    }\n\n    .dataframe thead th {\n        text-align: right;\n    }\n</style>\n<table border=\"1\" class=\"dataframe\">\n  <thead>\n    <tr style=\"text-align: right;\">\n      <th></th>\n      <th>Year</th>\n      <th>Transit Agency</th>\n      <th>Average Fare per Boarding ($)</th>\n    </tr>\n  </thead>\n  <tbody>\n    <tr>\n      <th>0</th>\n      <td>1989</td>\n      <td>Community Transit</td>\n      <td>0.811890</td>\n    </tr>\n    <tr>\n      <th>1</th>\n      <td>1990</td>\n      <td>Community Transit</td>\n      <td>0.854134</td>\n    </tr>\n    <tr>\n      <th>2</th>\n      <td>1991</td>\n      <td>Community Transit</td>\n      <td>0.880978</td>\n    </tr>\n    <tr>\n      <th>3</th>\n      <td>1992</td>\n      <td>Community Transit</td>\n      <td>0.952374</td>\n    </tr>\n    <tr>\n      <th>4</th>\n      <td>1993</td>\n      <td>Community Transit</td>\n      <td>0.984394</td>\n    </tr>\n    <tr>\n      <th>...</th>\n      <td>...</td>\n      <td>...</td>\n      <td>...</td>\n    </tr>\n    <tr>\n      <th>305</th>\n      <td>2046</td>\n      <td>Pierce Transit</td>\n      <td>2.934295</td>\n    </tr>\n    <tr>\n      <th>306</th>\n      <td>2047</td>\n      <td>Pierce Transit</td>\n      <td>2.934295</td>\n    </tr>\n    <tr>\n      <th>307</th>\n      <td>2048</td>\n      <td>Pierce Transit</td>\n      <td>3.489484</td>\n    </tr>\n    <tr>\n      <th>308</th>\n      <td>2049</td>\n      <td>Pierce Transit</td>\n      <td>3.489484</td>\n    </tr>\n    <tr>\n      <th>309</th>\n      <td>2050</td>\n      <td>Pierce Transit</td>\n      <td>3.489484</td>\n    </tr>\n  </tbody>\n</table>\n<p>310 rows × 3 columns</p>\n</div>"
     },
     "execution_count": 6,
     "metadata": {},
     "output_type": "execute_result"
    }
   ],
   "source": [
    "# Average Fixed-Route fare per boarding with periodic increases\n",
    "fare_per_boarding = pd.read_csv(data_config[\"data_fare_per_boarding_local_transit\"])\n",
    "\n",
    "result_fare_per_boarding = pd.DataFrame()\n",
    "for agency in data_config['county_transit']:\n",
    "    fare_per_boarding1 = fare_per_boarding.copy()\n",
    "    # get the last year with actual value for creating periodic increases\n",
    "    last_value_year = max(fare_per_boarding1['Year'])\n",
    "    # base list of fare change period\n",
    "    list_grp = sorted(list(range(1,data_config['end_year']-last_value_year)) * data_config['transit_fare_change_period'][agency])\n",
    "\n",
    "    fare_per_boarding1 = input_data_processing.fill_year(fare_per_boarding1[fare_per_boarding1['Transit Agency']==agency], 'Transit Agency', 1989, data_config['end_year'])\n",
    "\n",
    "    # Average Fixed-Route fare per boarding by Annual Growth Rate: This has the fare grown by the average annual growth rate for each transit agency based on previous 20 year history\n",
    "    for year in range(1989, data_config['end_year'] + 1):\n",
    "\n",
    "        miss = fare_per_boarding1.loc[fare_per_boarding1['Year'] == year, 'Average Fare per Boarding ($)'].item()\n",
    "\n",
    "        if np.isnan(miss):\n",
    "\n",
    "            fare_prev_year = fare_per_boarding1.loc[fare_per_boarding1['Year'] == year - 1, 'Average Fare per Boarding ($)'].item()\n",
    "\n",
    "            fare_per_boarding1.loc[fare_per_boarding1['Year'] == year, 'Average Fare per Boarding ($)'] = fare_prev_year + (fare_prev_year * data_config['transit_annual_fare_increase'][agency])\n",
    "\n",
    "        else:\n",
    "            pass\n",
    "\n",
    "    # add grouping column (trim base list to needed length)\n",
    "    fare_per_boarding1['list_grp'] = list([0] * (last_value_year-1989)) + list_grp[0:data_config['end_year']-last_value_year+1]\n",
    "    # Average Fixed-Route fare per boarding with periodic increases\n",
    "    fare_per_boarding1.loc[fare_per_boarding1['list_grp']>0,'Average Fare per Boarding ($)'] = fare_per_boarding1.loc[fare_per_boarding1['list_grp']>0,['list_grp','Average Fare per Boarding ($)']].groupby(['list_grp'])['Average Fare per Boarding ($)'].transform(min)\n",
    "    result_fare_per_boarding = pd.concat([result_fare_per_boarding, fare_per_boarding1[['Year', 'Transit Agency', 'Average Fare per Boarding ($)']]], ignore_index=True)\n",
    "result_fare_per_boarding"
   ],
   "metadata": {
    "collapsed": false
   }
  },
  {
   "cell_type": "markdown",
   "source": [
    "# Actual transit revenues (Nominal $millions) from Local Transit Tab\n"
   ],
   "metadata": {
    "collapsed": false
   }
  },
  {
   "cell_type": "code",
   "execution_count": 18,
   "outputs": [
    {
     "data": {
      "text/plain": "        Revenue Type     Transit Agency  Year    Nominal  PV factor  \\\n0    Sales & Use Tax  Community Transit  1989  8088000.0      2.288   \n1               MVET  Community Transit  1989  8088000.0      2.288   \n2              Fares  Community Transit  1989  3266000.0      2.288   \n3    Sales & Use Tax    Everett Transit  1989  4177000.0      2.288   \n4               MVET    Everett Transit  1989        0.0      2.288   \n..               ...                ...   ...        ...        ...   \n625    Non-PSRC FHWA     Pierce Transit  2020        0.0      0.963   \n626         PSRC FTA     Pierce Transit  2020  8351312.0      0.963   \n627     Non-PSRC FTA     Pierce Transit  2020        0.0      0.963   \n628            State     Pierce Transit  2020        0.0      0.963   \n629    Other Federal     Pierce Transit  2020        0.0      0.963   \n\n         Constant  \n0    1.850534e+07  \n1    1.850534e+07  \n2    7.472608e+06  \n3    9.556976e+06  \n4    0.000000e+00  \n..            ...  \n625  0.000000e+00  \n626  8.042313e+06  \n627  0.000000e+00  \n628  0.000000e+00  \n629  0.000000e+00  \n\n[630 rows x 6 columns]",
      "text/html": "<div>\n<style scoped>\n    .dataframe tbody tr th:only-of-type {\n        vertical-align: middle;\n    }\n\n    .dataframe tbody tr th {\n        vertical-align: top;\n    }\n\n    .dataframe thead th {\n        text-align: right;\n    }\n</style>\n<table border=\"1\" class=\"dataframe\">\n  <thead>\n    <tr style=\"text-align: right;\">\n      <th></th>\n      <th>Revenue Type</th>\n      <th>Transit Agency</th>\n      <th>Year</th>\n      <th>Nominal</th>\n      <th>PV factor</th>\n      <th>Constant</th>\n    </tr>\n  </thead>\n  <tbody>\n    <tr>\n      <th>0</th>\n      <td>Sales &amp; Use Tax</td>\n      <td>Community Transit</td>\n      <td>1989</td>\n      <td>8088000.0</td>\n      <td>2.288</td>\n      <td>1.850534e+07</td>\n    </tr>\n    <tr>\n      <th>1</th>\n      <td>MVET</td>\n      <td>Community Transit</td>\n      <td>1989</td>\n      <td>8088000.0</td>\n      <td>2.288</td>\n      <td>1.850534e+07</td>\n    </tr>\n    <tr>\n      <th>2</th>\n      <td>Fares</td>\n      <td>Community Transit</td>\n      <td>1989</td>\n      <td>3266000.0</td>\n      <td>2.288</td>\n      <td>7.472608e+06</td>\n    </tr>\n    <tr>\n      <th>3</th>\n      <td>Sales &amp; Use Tax</td>\n      <td>Everett Transit</td>\n      <td>1989</td>\n      <td>4177000.0</td>\n      <td>2.288</td>\n      <td>9.556976e+06</td>\n    </tr>\n    <tr>\n      <th>4</th>\n      <td>MVET</td>\n      <td>Everett Transit</td>\n      <td>1989</td>\n      <td>0.0</td>\n      <td>2.288</td>\n      <td>0.000000e+00</td>\n    </tr>\n    <tr>\n      <th>...</th>\n      <td>...</td>\n      <td>...</td>\n      <td>...</td>\n      <td>...</td>\n      <td>...</td>\n      <td>...</td>\n    </tr>\n    <tr>\n      <th>625</th>\n      <td>Non-PSRC FHWA</td>\n      <td>Pierce Transit</td>\n      <td>2020</td>\n      <td>0.0</td>\n      <td>0.963</td>\n      <td>0.000000e+00</td>\n    </tr>\n    <tr>\n      <th>626</th>\n      <td>PSRC FTA</td>\n      <td>Pierce Transit</td>\n      <td>2020</td>\n      <td>8351312.0</td>\n      <td>0.963</td>\n      <td>8.042313e+06</td>\n    </tr>\n    <tr>\n      <th>627</th>\n      <td>Non-PSRC FTA</td>\n      <td>Pierce Transit</td>\n      <td>2020</td>\n      <td>0.0</td>\n      <td>0.963</td>\n      <td>0.000000e+00</td>\n    </tr>\n    <tr>\n      <th>628</th>\n      <td>State</td>\n      <td>Pierce Transit</td>\n      <td>2020</td>\n      <td>0.0</td>\n      <td>0.963</td>\n      <td>0.000000e+00</td>\n    </tr>\n    <tr>\n      <th>629</th>\n      <td>Other Federal</td>\n      <td>Pierce Transit</td>\n      <td>2020</td>\n      <td>0.0</td>\n      <td>0.963</td>\n      <td>0.000000e+00</td>\n    </tr>\n  </tbody>\n</table>\n<p>630 rows × 6 columns</p>\n</div>"
     },
     "execution_count": 18,
     "metadata": {},
     "output_type": "execute_result"
    }
   ],
   "source": [
    "transit_revenue = pd.read_csv(data_config['data_revenue_local_transit'])\n",
    "\n",
    "# calculate constant revenue with PV factor\n",
    "transit_revenue = pd.merge(transit_revenue, parameter[['Year', 'PV factor']], how=\"left\" , on=\"Year\")\n",
    "transit_revenue[\"Constant\"] = transit_revenue['Nominal'] * transit_revenue['PV factor']\n",
    "transit_revenue"
   ],
   "metadata": {
    "collapsed": false
   }
  },
  {
   "cell_type": "markdown",
   "source": [
    "### Fare revenue calculation\n",
    "- Year 2018 and before"
   ],
   "metadata": {
    "collapsed": false
   }
  },
  {
   "cell_type": "code",
   "execution_count": 14,
   "outputs": [
    {
     "data": {
      "text/plain": "    Revenue Type     Transit Agency  Year       Nominal\n0          Fares  Community Transit  1989  3.266000e+06\n1          Fares  Community Transit  1990  3.535000e+06\n2          Fares  Community Transit  1991  4.331000e+06\n3          Fares  Community Transit  1992  4.817000e+06\n4          Fares  Community Transit  1993  5.207000e+06\n..           ...                ...   ...           ...\n305        Fares     Pierce Transit  2046  4.078749e+07\n306        Fares     Pierce Transit  2047  4.119180e+07\n307        Fares     Pierce Transit  2048  4.947117e+07\n308        Fares     Pierce Transit  2049  4.996156e+07\n309        Fares     Pierce Transit  2050  5.045681e+07\n\n[310 rows x 4 columns]",
      "text/html": "<div>\n<style scoped>\n    .dataframe tbody tr th:only-of-type {\n        vertical-align: middle;\n    }\n\n    .dataframe tbody tr th {\n        vertical-align: top;\n    }\n\n    .dataframe thead th {\n        text-align: right;\n    }\n</style>\n<table border=\"1\" class=\"dataframe\">\n  <thead>\n    <tr style=\"text-align: right;\">\n      <th></th>\n      <th>Revenue Type</th>\n      <th>Transit Agency</th>\n      <th>Year</th>\n      <th>Nominal</th>\n    </tr>\n  </thead>\n  <tbody>\n    <tr>\n      <th>0</th>\n      <td>Fares</td>\n      <td>Community Transit</td>\n      <td>1989</td>\n      <td>3.266000e+06</td>\n    </tr>\n    <tr>\n      <th>1</th>\n      <td>Fares</td>\n      <td>Community Transit</td>\n      <td>1990</td>\n      <td>3.535000e+06</td>\n    </tr>\n    <tr>\n      <th>2</th>\n      <td>Fares</td>\n      <td>Community Transit</td>\n      <td>1991</td>\n      <td>4.331000e+06</td>\n    </tr>\n    <tr>\n      <th>3</th>\n      <td>Fares</td>\n      <td>Community Transit</td>\n      <td>1992</td>\n      <td>4.817000e+06</td>\n    </tr>\n    <tr>\n      <th>4</th>\n      <td>Fares</td>\n      <td>Community Transit</td>\n      <td>1993</td>\n      <td>5.207000e+06</td>\n    </tr>\n    <tr>\n      <th>...</th>\n      <td>...</td>\n      <td>...</td>\n      <td>...</td>\n      <td>...</td>\n    </tr>\n    <tr>\n      <th>305</th>\n      <td>Fares</td>\n      <td>Pierce Transit</td>\n      <td>2046</td>\n      <td>4.078749e+07</td>\n    </tr>\n    <tr>\n      <th>306</th>\n      <td>Fares</td>\n      <td>Pierce Transit</td>\n      <td>2047</td>\n      <td>4.119180e+07</td>\n    </tr>\n    <tr>\n      <th>307</th>\n      <td>Fares</td>\n      <td>Pierce Transit</td>\n      <td>2048</td>\n      <td>4.947117e+07</td>\n    </tr>\n    <tr>\n      <th>308</th>\n      <td>Fares</td>\n      <td>Pierce Transit</td>\n      <td>2049</td>\n      <td>4.996156e+07</td>\n    </tr>\n    <tr>\n      <th>309</th>\n      <td>Fares</td>\n      <td>Pierce Transit</td>\n      <td>2050</td>\n      <td>5.045681e+07</td>\n    </tr>\n  </tbody>\n</table>\n<p>310 rows × 4 columns</p>\n</div>"
     },
     "execution_count": 14,
     "metadata": {},
     "output_type": "execute_result"
    }
   ],
   "source": [
    "transit_fare_revenue = pd.merge(result_boarding[['Year', 'Transit Agency', 'Boardings']],\n",
    "                                result_fare_per_boarding[['Year', 'Transit Agency', 'Average Fare per Boarding ($)']],\n",
    "                                on=['Year', 'Transit Agency'])\n",
    "transit_fare_revenue['Nominal'] = transit_fare_revenue['Boardings'] * transit_fare_revenue['Average Fare per Boarding ($)']\n",
    "transit_fare_revenue['Revenue Type'] = \"Fares\"\n",
    "transit_fare_revenue = transit_fare_revenue[['Revenue Type', 'Transit Agency', 'Year', 'Nominal']]\n",
    "\n",
    "transit_fare_revenue"
   ],
   "metadata": {
    "collapsed": false
   }
  },
  {
   "cell_type": "code",
   "execution_count": 9,
   "outputs": [
    {
     "data": {
      "text/plain": "        Revenue Type     Transit Agency  Year    Nominal\n0    Sales & Use Tax  Community Transit  1989  8088000.0\n1               MVET  Community Transit  1989  8088000.0\n2              Fares  Community Transit  1989  3266000.0\n3    Sales & Use Tax    Everett Transit  1989  4177000.0\n4               MVET    Everett Transit  1989        0.0\n..               ...                ...   ...        ...\n625    Non-PSRC FHWA     Pierce Transit  2020        0.0\n626         PSRC FTA     Pierce Transit  2020  8351312.0\n627     Non-PSRC FTA     Pierce Transit  2020        0.0\n628            State     Pierce Transit  2020        0.0\n629    Other Federal     Pierce Transit  2020        0.0\n\n[630 rows x 4 columns]",
      "text/html": "<div>\n<style scoped>\n    .dataframe tbody tr th:only-of-type {\n        vertical-align: middle;\n    }\n\n    .dataframe tbody tr th {\n        vertical-align: top;\n    }\n\n    .dataframe thead th {\n        text-align: right;\n    }\n</style>\n<table border=\"1\" class=\"dataframe\">\n  <thead>\n    <tr style=\"text-align: right;\">\n      <th></th>\n      <th>Revenue Type</th>\n      <th>Transit Agency</th>\n      <th>Year</th>\n      <th>Nominal</th>\n    </tr>\n  </thead>\n  <tbody>\n    <tr>\n      <th>0</th>\n      <td>Sales &amp; Use Tax</td>\n      <td>Community Transit</td>\n      <td>1989</td>\n      <td>8088000.0</td>\n    </tr>\n    <tr>\n      <th>1</th>\n      <td>MVET</td>\n      <td>Community Transit</td>\n      <td>1989</td>\n      <td>8088000.0</td>\n    </tr>\n    <tr>\n      <th>2</th>\n      <td>Fares</td>\n      <td>Community Transit</td>\n      <td>1989</td>\n      <td>3266000.0</td>\n    </tr>\n    <tr>\n      <th>3</th>\n      <td>Sales &amp; Use Tax</td>\n      <td>Everett Transit</td>\n      <td>1989</td>\n      <td>4177000.0</td>\n    </tr>\n    <tr>\n      <th>4</th>\n      <td>MVET</td>\n      <td>Everett Transit</td>\n      <td>1989</td>\n      <td>0.0</td>\n    </tr>\n    <tr>\n      <th>...</th>\n      <td>...</td>\n      <td>...</td>\n      <td>...</td>\n      <td>...</td>\n    </tr>\n    <tr>\n      <th>625</th>\n      <td>Non-PSRC FHWA</td>\n      <td>Pierce Transit</td>\n      <td>2020</td>\n      <td>0.0</td>\n    </tr>\n    <tr>\n      <th>626</th>\n      <td>PSRC FTA</td>\n      <td>Pierce Transit</td>\n      <td>2020</td>\n      <td>8351312.0</td>\n    </tr>\n    <tr>\n      <th>627</th>\n      <td>Non-PSRC FTA</td>\n      <td>Pierce Transit</td>\n      <td>2020</td>\n      <td>0.0</td>\n    </tr>\n    <tr>\n      <th>628</th>\n      <td>State</td>\n      <td>Pierce Transit</td>\n      <td>2020</td>\n      <td>0.0</td>\n    </tr>\n    <tr>\n      <th>629</th>\n      <td>Other Federal</td>\n      <td>Pierce Transit</td>\n      <td>2020</td>\n      <td>0.0</td>\n    </tr>\n  </tbody>\n</table>\n<p>630 rows × 4 columns</p>\n</div>"
     },
     "execution_count": 9,
     "metadata": {},
     "output_type": "execute_result"
    }
   ],
   "source": [
    "df_transit_revenue_funding = pd.read_csv(data_config['data_revenue_local_transit'])\n",
    "df_transit_revenue_funding"
   ],
   "metadata": {
    "collapsed": false
   }
  },
  {
   "cell_type": "markdown",
   "source": [
    "## Local Transit Revenue: PSRC FHWA, PSRC FTA"
   ],
   "metadata": {
    "collapsed": false
   }
  },
  {
   "cell_type": "code",
   "execution_count": 11,
   "outputs": [
    {
     "data": {
      "text/plain": "    Revenue Type     Transit Agency  Year     Nominal\n408    PSRC FHWA  Community Transit  2016    608182.0\n410     PSRC FTA  Community Transit  2016  11341165.0\n417    PSRC FHWA    Everett Transit  2016    422469.0\n419     PSRC FTA    Everett Transit  2016   2202226.0\n426    PSRC FHWA  King County Metro  2016   2165900.0\n428     PSRC FTA  King County Metro  2016  79768173.0\n435    PSRC FHWA     Kitsap Transit  2016   2309321.0\n437     PSRC FTA     Kitsap Transit  2016   4165730.0\n444    PSRC FHWA     Pierce Transit  2016    373401.0\n446     PSRC FTA     Pierce Transit  2016   7999060.0\n453    PSRC FHWA  Community Transit  2017    611209.0\n455     PSRC FTA  Community Transit  2017  11858333.0\n462    PSRC FHWA    Everett Transit  2017    424572.0\n464     PSRC FTA    Everett Transit  2017   1766045.0\n471    PSRC FHWA  King County Metro  2017   2176679.0\n473     PSRC FTA  King County Metro  2017  78462902.0\n480    PSRC FHWA     Kitsap Transit  2017   2320814.0\n482     PSRC FTA     Kitsap Transit  2017   4305161.0\n489    PSRC FHWA     Pierce Transit  2017    375259.0\n491     PSRC FTA     Pierce Transit  2017   7984252.0\n498    PSRC FHWA  Community Transit  2018    619709.0\n500     PSRC FTA  Community Transit  2018  15562445.0\n507    PSRC FHWA    Everett Transit  2018    430476.0\n509     PSRC FTA    Everett Transit  2018   1430364.0\n516    PSRC FHWA  King County Metro  2018   2206950.0\n518     PSRC FTA  King County Metro  2018  90322252.0\n525    PSRC FHWA     Kitsap Transit  2018   2353090.0\n527     PSRC FTA     Kitsap Transit  2018   4405686.0\n534    PSRC FHWA     Pierce Transit  2018    380478.0\n536     PSRC FTA     Pierce Transit  2018   7952502.0\n543    PSRC FHWA  Community Transit  2019    694099.0\n545     PSRC FTA  Community Transit  2019  13703949.0\n552    PSRC FHWA    Everett Transit  2019    482151.0\n554     PSRC FTA    Everett Transit  2019   1431348.0\n561    PSRC FHWA  King County Metro  2019   2471874.0\n563     PSRC FTA  King County Metro  2019  89220623.0\n570    PSRC FHWA     Kitsap Transit  2019   2635556.0\n572     PSRC FTA     Kitsap Transit  2019   4807075.0\n579    PSRC FHWA     Pierce Transit  2019    426151.0\n581     PSRC FTA     Pierce Transit  2019   9581992.0\n588    PSRC FHWA  Community Transit  2020    713708.0\n590     PSRC FTA  Community Transit  2020  13758530.0\n597    PSRC FHWA    Everett Transit  2020    495772.0\n599     PSRC FTA    Everett Transit  2020   1433591.0\n606    PSRC FHWA  King County Metro  2020   2541705.0\n608     PSRC FTA  King County Metro  2020  84899161.0\n615    PSRC FHWA     Kitsap Transit  2020   2710012.0\n617     PSRC FTA     Kitsap Transit  2020   4993765.0\n624    PSRC FHWA     Pierce Transit  2020    438190.0\n626     PSRC FTA     Pierce Transit  2020   8351312.0",
      "text/html": "<div>\n<style scoped>\n    .dataframe tbody tr th:only-of-type {\n        vertical-align: middle;\n    }\n\n    .dataframe tbody tr th {\n        vertical-align: top;\n    }\n\n    .dataframe thead th {\n        text-align: right;\n    }\n</style>\n<table border=\"1\" class=\"dataframe\">\n  <thead>\n    <tr style=\"text-align: right;\">\n      <th></th>\n      <th>Revenue Type</th>\n      <th>Transit Agency</th>\n      <th>Year</th>\n      <th>Nominal</th>\n    </tr>\n  </thead>\n  <tbody>\n    <tr>\n      <th>408</th>\n      <td>PSRC FHWA</td>\n      <td>Community Transit</td>\n      <td>2016</td>\n      <td>608182.0</td>\n    </tr>\n    <tr>\n      <th>410</th>\n      <td>PSRC FTA</td>\n      <td>Community Transit</td>\n      <td>2016</td>\n      <td>11341165.0</td>\n    </tr>\n    <tr>\n      <th>417</th>\n      <td>PSRC FHWA</td>\n      <td>Everett Transit</td>\n      <td>2016</td>\n      <td>422469.0</td>\n    </tr>\n    <tr>\n      <th>419</th>\n      <td>PSRC FTA</td>\n      <td>Everett Transit</td>\n      <td>2016</td>\n      <td>2202226.0</td>\n    </tr>\n    <tr>\n      <th>426</th>\n      <td>PSRC FHWA</td>\n      <td>King County Metro</td>\n      <td>2016</td>\n      <td>2165900.0</td>\n    </tr>\n    <tr>\n      <th>428</th>\n      <td>PSRC FTA</td>\n      <td>King County Metro</td>\n      <td>2016</td>\n      <td>79768173.0</td>\n    </tr>\n    <tr>\n      <th>435</th>\n      <td>PSRC FHWA</td>\n      <td>Kitsap Transit</td>\n      <td>2016</td>\n      <td>2309321.0</td>\n    </tr>\n    <tr>\n      <th>437</th>\n      <td>PSRC FTA</td>\n      <td>Kitsap Transit</td>\n      <td>2016</td>\n      <td>4165730.0</td>\n    </tr>\n    <tr>\n      <th>444</th>\n      <td>PSRC FHWA</td>\n      <td>Pierce Transit</td>\n      <td>2016</td>\n      <td>373401.0</td>\n    </tr>\n    <tr>\n      <th>446</th>\n      <td>PSRC FTA</td>\n      <td>Pierce Transit</td>\n      <td>2016</td>\n      <td>7999060.0</td>\n    </tr>\n    <tr>\n      <th>453</th>\n      <td>PSRC FHWA</td>\n      <td>Community Transit</td>\n      <td>2017</td>\n      <td>611209.0</td>\n    </tr>\n    <tr>\n      <th>455</th>\n      <td>PSRC FTA</td>\n      <td>Community Transit</td>\n      <td>2017</td>\n      <td>11858333.0</td>\n    </tr>\n    <tr>\n      <th>462</th>\n      <td>PSRC FHWA</td>\n      <td>Everett Transit</td>\n      <td>2017</td>\n      <td>424572.0</td>\n    </tr>\n    <tr>\n      <th>464</th>\n      <td>PSRC FTA</td>\n      <td>Everett Transit</td>\n      <td>2017</td>\n      <td>1766045.0</td>\n    </tr>\n    <tr>\n      <th>471</th>\n      <td>PSRC FHWA</td>\n      <td>King County Metro</td>\n      <td>2017</td>\n      <td>2176679.0</td>\n    </tr>\n    <tr>\n      <th>473</th>\n      <td>PSRC FTA</td>\n      <td>King County Metro</td>\n      <td>2017</td>\n      <td>78462902.0</td>\n    </tr>\n    <tr>\n      <th>480</th>\n      <td>PSRC FHWA</td>\n      <td>Kitsap Transit</td>\n      <td>2017</td>\n      <td>2320814.0</td>\n    </tr>\n    <tr>\n      <th>482</th>\n      <td>PSRC FTA</td>\n      <td>Kitsap Transit</td>\n      <td>2017</td>\n      <td>4305161.0</td>\n    </tr>\n    <tr>\n      <th>489</th>\n      <td>PSRC FHWA</td>\n      <td>Pierce Transit</td>\n      <td>2017</td>\n      <td>375259.0</td>\n    </tr>\n    <tr>\n      <th>491</th>\n      <td>PSRC FTA</td>\n      <td>Pierce Transit</td>\n      <td>2017</td>\n      <td>7984252.0</td>\n    </tr>\n    <tr>\n      <th>498</th>\n      <td>PSRC FHWA</td>\n      <td>Community Transit</td>\n      <td>2018</td>\n      <td>619709.0</td>\n    </tr>\n    <tr>\n      <th>500</th>\n      <td>PSRC FTA</td>\n      <td>Community Transit</td>\n      <td>2018</td>\n      <td>15562445.0</td>\n    </tr>\n    <tr>\n      <th>507</th>\n      <td>PSRC FHWA</td>\n      <td>Everett Transit</td>\n      <td>2018</td>\n      <td>430476.0</td>\n    </tr>\n    <tr>\n      <th>509</th>\n      <td>PSRC FTA</td>\n      <td>Everett Transit</td>\n      <td>2018</td>\n      <td>1430364.0</td>\n    </tr>\n    <tr>\n      <th>516</th>\n      <td>PSRC FHWA</td>\n      <td>King County Metro</td>\n      <td>2018</td>\n      <td>2206950.0</td>\n    </tr>\n    <tr>\n      <th>518</th>\n      <td>PSRC FTA</td>\n      <td>King County Metro</td>\n      <td>2018</td>\n      <td>90322252.0</td>\n    </tr>\n    <tr>\n      <th>525</th>\n      <td>PSRC FHWA</td>\n      <td>Kitsap Transit</td>\n      <td>2018</td>\n      <td>2353090.0</td>\n    </tr>\n    <tr>\n      <th>527</th>\n      <td>PSRC FTA</td>\n      <td>Kitsap Transit</td>\n      <td>2018</td>\n      <td>4405686.0</td>\n    </tr>\n    <tr>\n      <th>534</th>\n      <td>PSRC FHWA</td>\n      <td>Pierce Transit</td>\n      <td>2018</td>\n      <td>380478.0</td>\n    </tr>\n    <tr>\n      <th>536</th>\n      <td>PSRC FTA</td>\n      <td>Pierce Transit</td>\n      <td>2018</td>\n      <td>7952502.0</td>\n    </tr>\n    <tr>\n      <th>543</th>\n      <td>PSRC FHWA</td>\n      <td>Community Transit</td>\n      <td>2019</td>\n      <td>694099.0</td>\n    </tr>\n    <tr>\n      <th>545</th>\n      <td>PSRC FTA</td>\n      <td>Community Transit</td>\n      <td>2019</td>\n      <td>13703949.0</td>\n    </tr>\n    <tr>\n      <th>552</th>\n      <td>PSRC FHWA</td>\n      <td>Everett Transit</td>\n      <td>2019</td>\n      <td>482151.0</td>\n    </tr>\n    <tr>\n      <th>554</th>\n      <td>PSRC FTA</td>\n      <td>Everett Transit</td>\n      <td>2019</td>\n      <td>1431348.0</td>\n    </tr>\n    <tr>\n      <th>561</th>\n      <td>PSRC FHWA</td>\n      <td>King County Metro</td>\n      <td>2019</td>\n      <td>2471874.0</td>\n    </tr>\n    <tr>\n      <th>563</th>\n      <td>PSRC FTA</td>\n      <td>King County Metro</td>\n      <td>2019</td>\n      <td>89220623.0</td>\n    </tr>\n    <tr>\n      <th>570</th>\n      <td>PSRC FHWA</td>\n      <td>Kitsap Transit</td>\n      <td>2019</td>\n      <td>2635556.0</td>\n    </tr>\n    <tr>\n      <th>572</th>\n      <td>PSRC FTA</td>\n      <td>Kitsap Transit</td>\n      <td>2019</td>\n      <td>4807075.0</td>\n    </tr>\n    <tr>\n      <th>579</th>\n      <td>PSRC FHWA</td>\n      <td>Pierce Transit</td>\n      <td>2019</td>\n      <td>426151.0</td>\n    </tr>\n    <tr>\n      <th>581</th>\n      <td>PSRC FTA</td>\n      <td>Pierce Transit</td>\n      <td>2019</td>\n      <td>9581992.0</td>\n    </tr>\n    <tr>\n      <th>588</th>\n      <td>PSRC FHWA</td>\n      <td>Community Transit</td>\n      <td>2020</td>\n      <td>713708.0</td>\n    </tr>\n    <tr>\n      <th>590</th>\n      <td>PSRC FTA</td>\n      <td>Community Transit</td>\n      <td>2020</td>\n      <td>13758530.0</td>\n    </tr>\n    <tr>\n      <th>597</th>\n      <td>PSRC FHWA</td>\n      <td>Everett Transit</td>\n      <td>2020</td>\n      <td>495772.0</td>\n    </tr>\n    <tr>\n      <th>599</th>\n      <td>PSRC FTA</td>\n      <td>Everett Transit</td>\n      <td>2020</td>\n      <td>1433591.0</td>\n    </tr>\n    <tr>\n      <th>606</th>\n      <td>PSRC FHWA</td>\n      <td>King County Metro</td>\n      <td>2020</td>\n      <td>2541705.0</td>\n    </tr>\n    <tr>\n      <th>608</th>\n      <td>PSRC FTA</td>\n      <td>King County Metro</td>\n      <td>2020</td>\n      <td>84899161.0</td>\n    </tr>\n    <tr>\n      <th>615</th>\n      <td>PSRC FHWA</td>\n      <td>Kitsap Transit</td>\n      <td>2020</td>\n      <td>2710012.0</td>\n    </tr>\n    <tr>\n      <th>617</th>\n      <td>PSRC FTA</td>\n      <td>Kitsap Transit</td>\n      <td>2020</td>\n      <td>4993765.0</td>\n    </tr>\n    <tr>\n      <th>624</th>\n      <td>PSRC FHWA</td>\n      <td>Pierce Transit</td>\n      <td>2020</td>\n      <td>438190.0</td>\n    </tr>\n    <tr>\n      <th>626</th>\n      <td>PSRC FTA</td>\n      <td>Pierce Transit</td>\n      <td>2020</td>\n      <td>8351312.0</td>\n    </tr>\n  </tbody>\n</table>\n</div>"
     },
     "execution_count": 11,
     "metadata": {},
     "output_type": "execute_result"
    }
   ],
   "source": [
    "# predict_list = ['PSRC FHWA','Non-PSRC FHWA','PSRC FTA','Non-PSRC FTA','State','Other Federal']\n",
    "\n",
    "# previous year times 1.025\n",
    "predict_list_psrc = ['PSRC FHWA','PSRC FTA']\n",
    "max_year = max(df_transit_revenue_funding['Year'])\n",
    "\n",
    "# first predicting year uses the average of the previous five years\n",
    "df = df_transit_revenue_funding[(df_transit_revenue_funding['Revenue Type'].isin(predict_list_psrc)) & (df_transit_revenue_funding['Year'] > max_year-5)].copy()\n",
    "\n",
    "df"
   ],
   "metadata": {
    "collapsed": false
   }
  },
  {
   "cell_type": "code",
   "execution_count": 13,
   "outputs": [
    {
     "data": {
      "text/plain": "     Year Revenue Type     Transit Agency       Nominal\n0    2016    PSRC FHWA  Community Transit  6.081820e+05\n1    2017    PSRC FHWA  Community Transit  6.112090e+05\n2    2018    PSRC FHWA  Community Transit  6.197090e+05\n3    2019    PSRC FHWA  Community Transit  6.940990e+05\n4    2020    PSRC FHWA  Community Transit  7.137080e+05\n..    ...          ...                ...           ...\n345  2046     PSRC FTA     Pierce Transit  1.591272e+07\n346  2047     PSRC FTA     Pierce Transit  1.631053e+07\n347  2048     PSRC FTA     Pierce Transit  1.671830e+07\n348  2049     PSRC FTA     Pierce Transit  1.713625e+07\n349  2050     PSRC FTA     Pierce Transit  1.756466e+07\n\n[350 rows x 4 columns]",
      "text/html": "<div>\n<style scoped>\n    .dataframe tbody tr th:only-of-type {\n        vertical-align: middle;\n    }\n\n    .dataframe tbody tr th {\n        vertical-align: top;\n    }\n\n    .dataframe thead th {\n        text-align: right;\n    }\n</style>\n<table border=\"1\" class=\"dataframe\">\n  <thead>\n    <tr style=\"text-align: right;\">\n      <th></th>\n      <th>Year</th>\n      <th>Revenue Type</th>\n      <th>Transit Agency</th>\n      <th>Nominal</th>\n    </tr>\n  </thead>\n  <tbody>\n    <tr>\n      <th>0</th>\n      <td>2016</td>\n      <td>PSRC FHWA</td>\n      <td>Community Transit</td>\n      <td>6.081820e+05</td>\n    </tr>\n    <tr>\n      <th>1</th>\n      <td>2017</td>\n      <td>PSRC FHWA</td>\n      <td>Community Transit</td>\n      <td>6.112090e+05</td>\n    </tr>\n    <tr>\n      <th>2</th>\n      <td>2018</td>\n      <td>PSRC FHWA</td>\n      <td>Community Transit</td>\n      <td>6.197090e+05</td>\n    </tr>\n    <tr>\n      <th>3</th>\n      <td>2019</td>\n      <td>PSRC FHWA</td>\n      <td>Community Transit</td>\n      <td>6.940990e+05</td>\n    </tr>\n    <tr>\n      <th>4</th>\n      <td>2020</td>\n      <td>PSRC FHWA</td>\n      <td>Community Transit</td>\n      <td>7.137080e+05</td>\n    </tr>\n    <tr>\n      <th>...</th>\n      <td>...</td>\n      <td>...</td>\n      <td>...</td>\n      <td>...</td>\n    </tr>\n    <tr>\n      <th>345</th>\n      <td>2046</td>\n      <td>PSRC FTA</td>\n      <td>Pierce Transit</td>\n      <td>1.591272e+07</td>\n    </tr>\n    <tr>\n      <th>346</th>\n      <td>2047</td>\n      <td>PSRC FTA</td>\n      <td>Pierce Transit</td>\n      <td>1.631053e+07</td>\n    </tr>\n    <tr>\n      <th>347</th>\n      <td>2048</td>\n      <td>PSRC FTA</td>\n      <td>Pierce Transit</td>\n      <td>1.671830e+07</td>\n    </tr>\n    <tr>\n      <th>348</th>\n      <td>2049</td>\n      <td>PSRC FTA</td>\n      <td>Pierce Transit</td>\n      <td>1.713625e+07</td>\n    </tr>\n    <tr>\n      <th>349</th>\n      <td>2050</td>\n      <td>PSRC FTA</td>\n      <td>Pierce Transit</td>\n      <td>1.756466e+07</td>\n    </tr>\n  </tbody>\n</table>\n<p>350 rows × 4 columns</p>\n</div>"
     },
     "execution_count": 13,
     "metadata": {},
     "output_type": "execute_result"
    }
   ],
   "source": [
    "transit_revenue_funding = pd.DataFrame()\n",
    "\n",
    "for predict in predict_list_psrc:\n",
    "    for agency in data_config['county_transit'].keys():\n",
    "        df_transit_revenue_funding = df[(df['Transit Agency']==agency) & (df['Revenue Type']==predict)]\n",
    "        df_transit_revenue_funding = input_data_processing.fill_year(df_transit_revenue_funding, ['Revenue Type', 'Transit Agency'], 2016, data_config['end_year'])\n",
    "\n",
    "        df_transit_revenue_funding.loc[df_transit_revenue_funding['Year'] == max_year + 1, 'Nominal'] = df_transit_revenue_funding['Nominal'].mean() * 1.025\n",
    "\n",
    "        for year in range(max_year+2, data_config['end_year'] + 1):\n",
    "            funding_prev_year = df_transit_revenue_funding.loc[df_transit_revenue_funding['Year'] == year - 1, 'Nominal'].item()\n",
    "            df_transit_revenue_funding.loc[df_transit_revenue_funding['Year'] == year, 'Nominal'] = funding_prev_year * 1.025\n",
    "        transit_revenue_funding = pd.concat([transit_revenue_funding, df_transit_revenue_funding], ignore_index=True)\n",
    "\n",
    "\n",
    "transit_revenue_funding"
   ],
   "metadata": {
    "collapsed": false
   }
  },
  {
   "cell_type": "markdown",
   "source": [
    "### Annual Tax Base [Scenario: Base Model - Updated February, 2019]\n",
    "- Year: 1975 - 2050\n"
   ],
   "metadata": {
    "collapsed": false
   }
  },
  {
   "cell_type": "code",
   "execution_count": 15,
   "outputs": [],
   "source": [
    "df = pd.read_csv(\"data_actual/tax_base_actual.csv\")\n",
    "df\n",
    "\n",
    "tax_base = pd.melt(df, id_vars=['County', 'Tax Base Category'], value_vars=df.columns[2:], var_name='Year',\n",
    "                   value_name='Values').dropna()\n",
    "# transit_boardings['Boardings'] = transit_boardings['Boardings (000s)'].apply(lambda x: x.strip().replace(',', '')).astype({'Boardings (000s)':float})*1e3\n",
    "tax_base[\"Multiplier\"] = 1e6\n",
    "tax_base.loc[tax_base[\"Tax Base Category\"].str.contains(\"000s\"), \"Multiplier\"] = 1e3\n",
    "tax_base.loc[tax_base[\"Tax Base Category\"].str.contains(\"Diesel\"), \"Multiplier\"] = 1\n",
    "tax_base[\"True Value\"] = tax_base[\"Multiplier\"] * tax_base[\"Values\"]\n",
    "tax_base"
   ],
   "metadata": {
    "collapsed": false
   }
  }
 ],
 "metadata": {
  "kernelspec": {
   "display_name": "Python 3",
   "language": "python",
   "name": "python3"
  },
  "language_info": {
   "codemirror_mode": {
    "name": "ipython",
    "version": 2
   },
   "file_extension": ".py",
   "mimetype": "text/x-python",
   "name": "python",
   "nbconvert_exporter": "python",
   "pygments_lexer": "ipython2",
   "version": "2.7.6"
  }
 },
 "nbformat": 4,
 "nbformat_minor": 0
}
